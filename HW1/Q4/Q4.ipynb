{
 "cells": [
  {
   "cell_type": "code",
   "execution_count": 1,
   "metadata": {},
   "outputs": [],
   "source": [
    "import numpy as np\n",
    "import time\n",
    "from tqdm import tnrange, tqdm_notebook\n",
    "import matplotlib.pyplot as plt"
   ]
  },
  {
   "cell_type": "code",
   "execution_count": 2,
   "metadata": {},
   "outputs": [],
   "source": [
    "class FarthestPair:\n",
    "    def __init__(self, input_data):\n",
    "        self.data = input_data\n",
    "        \n",
    "    def findresult(self):\n",
    "        max = float('-inf')\n",
    "        min = float('inf')\n",
    "        for i in tnrange(0, len(self.data), 1, desc='pair loop'):\n",
    "            if self.data[i] < min:\n",
    "                min = self.data[i]\n",
    "            if self.data[i] > max:\n",
    "                max = self.data[i]\n",
    "        #print('The farthest pair are ', min, ' and ', max, ', have difference ', abs(max-min))\n",
    "        \n",
    "    def runtime(self):\n",
    "        time_start = time.time()\n",
    "        self.findresult()\n",
    "        time_finish = time.time()\n",
    "        time_run = time_finish - time_start\n",
    "        return time_run\n",
    "            "
   ]
  },
  {
   "cell_type": "code",
   "execution_count": 3,
   "metadata": {},
   "outputs": [],
   "source": [
    "input_data_8 = np.loadtxt('Q4_dataset/8int.txt', int)\n",
    "input_data_32 = np.loadtxt('Q4_dataset/32int.txt', int)\n",
    "input_data_128 = np.loadtxt('Q4_dataset/128int.txt', int)\n",
    "input_data_512 = np.loadtxt('Q4_dataset/512int.txt', int)\n",
    "input_data_1024 = np.loadtxt('Q4_dataset/1024int.txt', int)\n",
    "input_data_4096 = np.loadtxt('Q4_dataset/4096int.txt', int)\n",
    "input_data_4192 = np.loadtxt('Q4_dataset/4192int.txt', int)\n",
    "input_data_8192 = np.loadtxt('Q4_dataset/8192int.txt', int)"
   ]
  },
  {
   "cell_type": "code",
   "execution_count": 4,
   "metadata": {},
   "outputs": [],
   "source": [
    "bit_8 = FarthestPair(input_data_8)\n",
    "bit_32 = FarthestPair(input_data_32)\n",
    "bit_128 = FarthestPair(input_data_128)\n",
    "bit_512 = FarthestPair(input_data_512)\n",
    "bit_1024 = FarthestPair(input_data_1024)\n",
    "bit_4096 = FarthestPair(input_data_4096)\n",
    "bit_4192 = FarthestPair(input_data_4192)\n",
    "bit_8192 = FarthestPair(input_data_8192)"
   ]
  },
  {
   "cell_type": "code",
   "execution_count": 5,
   "metadata": {},
   "outputs": [
    {
     "data": {
      "application/vnd.jupyter.widget-view+json": {
       "model_id": "2cb5afe38f1042d6a3166711fc699053",
       "version_major": 2,
       "version_minor": 0
      },
      "text/plain": [
       "HBox(children=(IntProgress(value=0, description='pair loop', max=8, style=ProgressStyle(description_width='ini…"
      ]
     },
     "metadata": {},
     "output_type": "display_data"
    },
    {
     "name": "stdout",
     "output_type": "stream",
     "text": [
      "\n"
     ]
    },
    {
     "data": {
      "application/vnd.jupyter.widget-view+json": {
       "model_id": "2552841d94c24bac89c6a0a32b7ec222",
       "version_major": 2,
       "version_minor": 0
      },
      "text/plain": [
       "HBox(children=(IntProgress(value=0, description='pair loop', max=32, style=ProgressStyle(description_width='in…"
      ]
     },
     "metadata": {},
     "output_type": "display_data"
    },
    {
     "name": "stdout",
     "output_type": "stream",
     "text": [
      "\n"
     ]
    },
    {
     "data": {
      "application/vnd.jupyter.widget-view+json": {
       "model_id": "49185c05ee7b4bfe95928656249bcc19",
       "version_major": 2,
       "version_minor": 0
      },
      "text/plain": [
       "HBox(children=(IntProgress(value=0, description='pair loop', max=128, style=ProgressStyle(description_width='i…"
      ]
     },
     "metadata": {},
     "output_type": "display_data"
    },
    {
     "name": "stdout",
     "output_type": "stream",
     "text": [
      "\n"
     ]
    },
    {
     "data": {
      "application/vnd.jupyter.widget-view+json": {
       "model_id": "6c28c990211f41f89ae18a6348eb4175",
       "version_major": 2,
       "version_minor": 0
      },
      "text/plain": [
       "HBox(children=(IntProgress(value=0, description='pair loop', max=512, style=ProgressStyle(description_width='i…"
      ]
     },
     "metadata": {},
     "output_type": "display_data"
    },
    {
     "name": "stdout",
     "output_type": "stream",
     "text": [
      "\n"
     ]
    },
    {
     "data": {
      "application/vnd.jupyter.widget-view+json": {
       "model_id": "7342de73cd364ceda3272e3a76974a76",
       "version_major": 2,
       "version_minor": 0
      },
      "text/plain": [
       "HBox(children=(IntProgress(value=0, description='pair loop', max=1024, style=ProgressStyle(description_width='…"
      ]
     },
     "metadata": {},
     "output_type": "display_data"
    },
    {
     "name": "stdout",
     "output_type": "stream",
     "text": [
      "\n"
     ]
    },
    {
     "data": {
      "application/vnd.jupyter.widget-view+json": {
       "model_id": "2c5cef89e42a40baa9139ca202201182",
       "version_major": 2,
       "version_minor": 0
      },
      "text/plain": [
       "HBox(children=(IntProgress(value=0, description='pair loop', max=4096, style=ProgressStyle(description_width='…"
      ]
     },
     "metadata": {},
     "output_type": "display_data"
    },
    {
     "name": "stdout",
     "output_type": "stream",
     "text": [
      "\n"
     ]
    },
    {
     "data": {
      "application/vnd.jupyter.widget-view+json": {
       "model_id": "e709a36a20ab4058bafac5fedec6a327",
       "version_major": 2,
       "version_minor": 0
      },
      "text/plain": [
       "HBox(children=(IntProgress(value=0, description='pair loop', max=4192, style=ProgressStyle(description_width='…"
      ]
     },
     "metadata": {},
     "output_type": "display_data"
    },
    {
     "name": "stdout",
     "output_type": "stream",
     "text": [
      "\n"
     ]
    },
    {
     "data": {
      "application/vnd.jupyter.widget-view+json": {
       "model_id": "8afe2fcd7e6e4d74a6e493dfe6f9a768",
       "version_major": 2,
       "version_minor": 0
      },
      "text/plain": [
       "HBox(children=(IntProgress(value=0, description='pair loop', max=8192, style=ProgressStyle(description_width='…"
      ]
     },
     "metadata": {},
     "output_type": "display_data"
    },
    {
     "name": "stdout",
     "output_type": "stream",
     "text": [
      "\n"
     ]
    }
   ],
   "source": [
    "input_number = [8, 32, 128, 512, 1024, 4096, 4192, 8192]\n",
    "runtime = [bit_8.runtime(), bit_32.runtime(), bit_128.runtime(), bit_512.runtime(),\\\n",
    "           bit_1024.runtime(), bit_4096.runtime(), bit_4192.runtime(), bit_8192.runtime()]"
   ]
  },
  {
   "cell_type": "code",
   "execution_count": 6,
   "metadata": {},
   "outputs": [
    {
     "data": {
      "image/png": "[encoded data removed]",
      "text/plain": [
       "<Figure size 432x288 with 1 Axes>"
      ]
     },
     "metadata": {
      "needs_background": "light"
     },
     "output_type": "display_data"
    }
   ],
   "source": [
    "plt.figure\n",
    "plt.plot(input_number, runtime, 'r' )\n",
    "plt.title('time cost as a function of input numbers')\n",
    "plt.xlabel('input number')\n",
    "plt.ylabel('time cost (s)')\n",
    "plt.savefig('./plot.jpg')\n",
    "plt.show()"
   ]
  },
  {
   "cell_type": "code",
   "execution_count": null,
   "metadata": {},
   "outputs": [],
   "source": []
  }
 ],
 "metadata": {
  "kernelspec": {
   "display_name": "Python 3",
   "language": "python",
   "name": "python3"
  },
  "language_info": {
   "codemirror_mode": {
    "name": "ipython",
    "version": 3
   },
   "file_extension": ".py",
   "mimetype": "text/x-python",
   "name": "python",
   "nbconvert_exporter": "python",
   "pygments_lexer": "ipython3",
   "version": "3.7.4"
  }
 },
 "nbformat": 4,
 "nbformat_minor": 2
}
