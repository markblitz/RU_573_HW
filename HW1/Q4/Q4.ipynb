{
 "cells": [
  {
   "cell_type": "code",
   "execution_count": 1,
   "metadata": {},
   "outputs": [],
   "source": [
    "import numpy as np\n",
    "import time\n",
    "from tqdm import tnrange, tqdm_notebook\n",
    "import matplotlib.pyplot as plt"
   ]
  },
  {
   "cell_type": "code",
   "execution_count": 2,
   "metadata": {},
   "outputs": [],
   "source": [
    "class FarthestPair:\n",
    "    def __init__(self, input_data):\n",
    "        self.data = input_data\n",
    "        \n",
    "    def findresult(self):\n",
    "        max = float('-inf')\n",
    "        min = float('inf')\n",
    "        for i in tnrange(0, len(self.data), 1, desc='pair loop'):\n",
    "            if self.data[i] < min:\n",
    "                min = self.data[i]\n",
    "            if self.data[i] > max:\n",
    "                max = self.data[i]\n",
    "        #print('The farthest pair are ', min, ' and ', max, ', have difference ', abs(max-min))\n",
    "        \n",
    "    def runtime(self):\n",
    "        time_start = time.time()\n",
    "        self.findresult()\n",
    "        time_finish = time.time()\n",
    "        time_run = time_finish - time_start\n",
    "        return time_run\n",
    "            "
   ]
  },
  {
   "cell_type": "code",
   "execution_count": 3,
   "metadata": {},
   "outputs": [],
   "source": [
    "input_data_8 = np.loadtxt('Q4_dataset/8int.txt', int)\n",
    "input_data_32 = np.loadtxt('Q4_dataset/32int.txt', int)\n",
    "input_data_128 = np.loadtxt('Q4_dataset/128int.txt', int)\n",
    "input_data_512 = np.loadtxt('Q4_dataset/512int.txt', int)\n",
    "input_data_1024 = np.loadtxt('Q4_dataset/1024int.txt', int)\n",
    "input_data_4096 = np.loadtxt('Q4_dataset/4096int.txt', int)\n",
    "input_data_4192 = np.loadtxt('Q4_dataset/4192int.txt', int)\n",
    "input_data_8192 = np.loadtxt('Q4_dataset/8192int.txt', int)"
   ]
  },
  {
   "cell_type": "code",
   "execution_count": 4,
   "metadata": {},
   "outputs": [],
   "source": [
    "bit_8 = FarthestPair(input_data_8)\n",
    "bit_32 = FarthestPair(input_data_32)\n",
    "bit_128 = FarthestPair(input_data_128)\n",
    "bit_512 = FarthestPair(input_data_512)\n",
    "bit_1024 = FarthestPair(input_data_1024)\n",
    "bit_4096 = FarthestPair(input_data_4096)\n",
    "bit_4192 = FarthestPair(input_data_4192)\n",
    "bit_8192 = FarthestPair(input_data_8192)"
   ]
  },
  {
   "cell_type": "code",
   "execution_count": 5,
   "metadata": {},
   "outputs": [
    {
     "data": {
      "application/vnd.jupyter.widget-view+json": {
       "model_id": "917990c5d5084ac3bbb1810555b5902d",
       "version_major": 2,
       "version_minor": 0
      },
      "text/plain": [
       "HBox(children=(IntProgress(value=0, description='pair loop', max=8, style=ProgressStyle(description_width='ini…"
      ]
     },
     "metadata": {},
     "output_type": "display_data"
    },
    {
     "name": "stdout",
     "output_type": "stream",
     "text": [
      "\n"
     ]
    },
    {
     "data": {
      "application/vnd.jupyter.widget-view+json": {
       "model_id": "1290a829231d44ce8aeb50f991a03c56",
       "version_major": 2,
       "version_minor": 0
      },
      "text/plain": [
       "HBox(children=(IntProgress(value=0, description='pair loop', max=32, style=ProgressStyle(description_width='in…"
      ]
     },
     "metadata": {},
     "output_type": "display_data"
    },
    {
     "name": "stdout",
     "output_type": "stream",
     "text": [
      "\n"
     ]
    },
    {
     "data": {
      "application/vnd.jupyter.widget-view+json": {
       "model_id": "5c9c597d90274369bffc14a9736f43c1",
       "version_major": 2,
       "version_minor": 0
      },
      "text/plain": [
       "HBox(children=(IntProgress(value=0, description='pair loop', max=128, style=ProgressStyle(description_width='i…"
      ]
     },
     "metadata": {},
     "output_type": "display_data"
    },
    {
     "name": "stdout",
     "output_type": "stream",
     "text": [
      "\n"
     ]
    },
    {
     "data": {
      "application/vnd.jupyter.widget-view+json": {
       "model_id": "421a093866244bd995aeb8bf58314085",
       "version_major": 2,
       "version_minor": 0
      },
      "text/plain": [
       "HBox(children=(IntProgress(value=0, description='pair loop', max=512, style=ProgressStyle(description_width='i…"
      ]
     },
     "metadata": {},
     "output_type": "display_data"
    },
    {
     "name": "stdout",
     "output_type": "stream",
     "text": [
      "\n"
     ]
    },
    {
     "data": {
      "application/vnd.jupyter.widget-view+json": {
       "model_id": "863c48f802544a44b581464a5696de41",
       "version_major": 2,
       "version_minor": 0
      },
      "text/plain": [
       "HBox(children=(IntProgress(value=0, description='pair loop', max=1024, style=ProgressStyle(description_width='…"
      ]
     },
     "metadata": {},
     "output_type": "display_data"
    },
    {
     "name": "stdout",
     "output_type": "stream",
     "text": [
      "\n"
     ]
    },
    {
     "data": {
      "application/vnd.jupyter.widget-view+json": {
       "model_id": "368be722f09a41a697aa4b943c8a61fb",
       "version_major": 2,
       "version_minor": 0
      },
      "text/plain": [
       "HBox(children=(IntProgress(value=0, description='pair loop', max=4096, style=ProgressStyle(description_width='…"
      ]
     },
     "metadata": {},
     "output_type": "display_data"
    },
    {
     "name": "stdout",
     "output_type": "stream",
     "text": [
      "\n"
     ]
    },
    {
     "data": {
      "application/vnd.jupyter.widget-view+json": {
       "model_id": "b904455d61a34191ba38c338dbfe4dcb",
       "version_major": 2,
       "version_minor": 0
      },
      "text/plain": [
       "HBox(children=(IntProgress(value=0, description='pair loop', max=4192, style=ProgressStyle(description_width='…"
      ]
     },
     "metadata": {},
     "output_type": "display_data"
    },
    {
     "name": "stdout",
     "output_type": "stream",
     "text": [
      "\n"
     ]
    },
    {
     "data": {
      "application/vnd.jupyter.widget-view+json": {
       "model_id": "2e93cd9a18a64757859655009a76ea27",
       "version_major": 2,
       "version_minor": 0
      },
      "text/plain": [
       "HBox(children=(IntProgress(value=0, description='pair loop', max=8192, style=ProgressStyle(description_width='…"
      ]
     },
     "metadata": {},
     "output_type": "display_data"
    },
    {
     "name": "stdout",
     "output_type": "stream",
     "text": [
      "\n"
     ]
    }
   ],
   "source": [
    "input_number = [8, 32, 128, 512, 1024, 4096, 4192, 8192]\n",
    "runtime = [bit_8.runtime(), bit_32.runtime(), bit_128.runtime(), bit_512.runtime(),\\\n",
    "           bit_1024.runtime(), bit_4096.runtime(), bit_4192.runtime(), bit_8192.runtime()]"
   ]
  },
  {
   "cell_type": "code",
   "execution_count": 6,
   "metadata": {},
   "outputs": [
    {
     "data": {
      "image/png": "[encoded data removed]",
      "text/plain": [
       "<Figure size 432x288 with 1 Axes>"
      ]
     },
     "metadata": {
      "needs_background": "light"
     },
     "output_type": "display_data"
    }
   ],
   "source": [
    "plt.figure\n",
    "plt.plot(input_number, runtime, 'r' )\n",
    "plt.title('time cost as a function of input numbers')\n",
    "plt.xlabel('input number')\n",
    "plt.ylabel('time cost (s)')\n",
    "plt.savefig('./plot.jpg')\n",
    "plt.show()"
   ]
  },
  {
   "cell_type": "code",
   "execution_count": null,
   "metadata": {},
   "outputs": [],
   "source": []
  }
 ],
 "metadata": {
  "kernelspec": {
   "display_name": "Python 3",
   "language": "python",
   "name": "python3"
  },
  "language_info": {
   "codemirror_mode": {
    "name": "ipython",
    "version": 3
   },
   "file_extension": ".py",
   "mimetype": "text/x-python",
   "name": "python",
   "nbconvert_exporter": "python",
   "pygments_lexer": "ipython3",
   "version": "3.7.4"
  }
 },
 "nbformat": 4,
 "nbformat_minor": 2
}
