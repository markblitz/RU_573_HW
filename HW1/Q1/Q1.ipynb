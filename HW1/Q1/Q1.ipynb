{
 "cells": [
  {
   "cell_type": "code",
   "execution_count": 1,
   "metadata": {},
   "outputs": [],
   "source": [
    "import numpy as np\n",
    "import time\n",
    "from tqdm import tnrange, tqdm_notebook\n",
    "import matplotlib.pyplot as plt"
   ]
  },
  {
   "cell_type": "code",
   "execution_count": 2,
   "metadata": {},
   "outputs": [],
   "source": [
    "class ThreeSum:\n",
    "    def __init__(self, input_data):\n",
    "        self.data = input_data\n",
    "        self.data_sorted = input_data\n",
    "\n",
    "    def naive_method(self):        \n",
    "        counter = 0\n",
    "        for i in tnrange(0, len(self.data), 1, desc='naive loop'):\n",
    "            for j in range(i+1, len(self.data), 1):\n",
    "                for k in range(j+1, len(self.data), 1):\n",
    "                    #print(i,j,k)\n",
    "                    if self.data[i] + self.data[j] + self.data[k] == 0:\n",
    "                        counter += 1\n",
    "                    \n",
    "        return counter\n",
    "\n",
    "    def runtime_naive(self):\n",
    "        time_start = time.time()\n",
    "        self.naive_method()\n",
    "        time_finish = time.time()\n",
    "        time_run = time_finish - time_start\n",
    "        return time_run\n",
    "\n",
    "    def binary_research(self, input_array, input_low, target):\n",
    "        low = input_low\n",
    "        high = len(input_array)\n",
    "        while low < high:\n",
    "            mid = (low + high) // 2\n",
    "            if input_array[mid] < target:\n",
    "                low = mid + 1\n",
    "            elif input_array[mid] > target:\n",
    "                high = mid\n",
    "            else:\n",
    "                return True\n",
    "        return False\n",
    "\n",
    "    def binary_method(self):\n",
    "        #print(self.data_sorted)\n",
    "        counter = 0\n",
    "        for i in tnrange(0, len(self.data_sorted), 1, desc='binary loop'):\n",
    "            for j in range(i+1, len(self.data_sorted), 1):\n",
    "                target = self.data_sorted[i] + self.data_sorted[j]\n",
    "                #print(target)\n",
    "                if self.binary_research(self.data_sorted, j+1, -target):\n",
    "                    #print(\"with i=\", self.data_sorted[i], \"j=\", self.data_sorted[j], \\\n",
    "                    #    \"search for\", -target, self.binary_research(self.data_sorted, j+1, -target))\n",
    "                    counter += 1\n",
    "        return counter\n",
    "\n",
    "    def runtime_binary(self):\n",
    "        time_start = time.time()\n",
    "        self.binary_method()\n",
    "        time_finish = time.time()\n",
    "        time_run = time_finish - time_start\n",
    "        return time_run"
   ]
  },
  {
   "cell_type": "code",
   "execution_count": 3,
   "metadata": {},
   "outputs": [
    {
     "data": {
      "application/vnd.jupyter.widget-view+json": {
       "model_id": "735745475f824793852fd2c25fc0bdf5",
       "version_major": 2,
       "version_minor": 0
      },
      "text/plain": [
       "HBox(children=(IntProgress(value=0, description='naive loop', max=8, style=ProgressStyle(description_width='in…"
      ]
     },
     "metadata": {},
     "output_type": "display_data"
    },
    {
     "name": "stdout",
     "output_type": "stream",
     "text": [
      "\n"
     ]
    },
    {
     "data": {
      "application/vnd.jupyter.widget-view+json": {
       "model_id": "0d55f0982bda4a2f9c101657407540f0",
       "version_major": 2,
       "version_minor": 0
      },
      "text/plain": [
       "HBox(children=(IntProgress(value=0, description='naive loop', max=32, style=ProgressStyle(description_width='i…"
      ]
     },
     "metadata": {},
     "output_type": "display_data"
    },
    {
     "name": "stdout",
     "output_type": "stream",
     "text": [
      "\n"
     ]
    },
    {
     "data": {
      "application/vnd.jupyter.widget-view+json": {
       "model_id": "5c0ac838025a48e49f157f65b0d5cbe4",
       "version_major": 2,
       "version_minor": 0
      },
      "text/plain": [
       "HBox(children=(IntProgress(value=0, description='naive loop', max=128, style=ProgressStyle(description_width='…"
      ]
     },
     "metadata": {},
     "output_type": "display_data"
    },
    {
     "name": "stdout",
     "output_type": "stream",
     "text": [
      "\n"
     ]
    },
    {
     "data": {
      "application/vnd.jupyter.widget-view+json": {
       "model_id": "5197029142fa4f0bbb4d342d4559ae85",
       "version_major": 2,
       "version_minor": 0
      },
      "text/plain": [
       "HBox(children=(IntProgress(value=0, description='naive loop', max=512, style=ProgressStyle(description_width='…"
      ]
     },
     "metadata": {},
     "output_type": "display_data"
    },
    {
     "name": "stdout",
     "output_type": "stream",
     "text": [
      "\n"
     ]
    },
    {
     "data": {
      "application/vnd.jupyter.widget-view+json": {
       "model_id": "b7be5415848743b09ff755e9124339d8",
       "version_major": 2,
       "version_minor": 0
      },
      "text/plain": [
       "HBox(children=(IntProgress(value=0, description='naive loop', max=1024, style=ProgressStyle(description_width=…"
      ]
     },
     "metadata": {},
     "output_type": "display_data"
    },
    {
     "name": "stdout",
     "output_type": "stream",
     "text": [
      "\n"
     ]
    },
    {
     "data": {
      "application/vnd.jupyter.widget-view+json": {
       "model_id": "998d997a1a524d5a8882cbfe2893f0e1",
       "version_major": 2,
       "version_minor": 0
      },
      "text/plain": [
       "HBox(children=(IntProgress(value=0, description='binary loop', max=8, style=ProgressStyle(description_width='i…"
      ]
     },
     "metadata": {},
     "output_type": "display_data"
    },
    {
     "name": "stdout",
     "output_type": "stream",
     "text": [
      "\n"
     ]
    },
    {
     "data": {
      "application/vnd.jupyter.widget-view+json": {
       "model_id": "b532a678f0ec4837bb6db13ad89e1da7",
       "version_major": 2,
       "version_minor": 0
      },
      "text/plain": [
       "HBox(children=(IntProgress(value=0, description='binary loop', max=32, style=ProgressStyle(description_width='…"
      ]
     },
     "metadata": {},
     "output_type": "display_data"
    },
    {
     "name": "stdout",
     "output_type": "stream",
     "text": [
      "\n"
     ]
    },
    {
     "data": {
      "application/vnd.jupyter.widget-view+json": {
       "model_id": "f7c33f21e86d40ab9c108e0119a383df",
       "version_major": 2,
       "version_minor": 0
      },
      "text/plain": [
       "HBox(children=(IntProgress(value=0, description='binary loop', max=128, style=ProgressStyle(description_width=…"
      ]
     },
     "metadata": {},
     "output_type": "display_data"
    },
    {
     "name": "stdout",
     "output_type": "stream",
     "text": [
      "\n"
     ]
    },
    {
     "data": {
      "application/vnd.jupyter.widget-view+json": {
       "model_id": "c6b87d039a3349ed8ef12eb87b907a6e",
       "version_major": 2,
       "version_minor": 0
      },
      "text/plain": [
       "HBox(children=(IntProgress(value=0, description='binary loop', max=512, style=ProgressStyle(description_width=…"
      ]
     },
     "metadata": {},
     "output_type": "display_data"
    },
    {
     "name": "stdout",
     "output_type": "stream",
     "text": [
      "\n"
     ]
    },
    {
     "data": {
      "application/vnd.jupyter.widget-view+json": {
       "model_id": "a66786af04ff41c8b3203814e28ae28c",
       "version_major": 2,
       "version_minor": 0
      },
      "text/plain": [
       "HBox(children=(IntProgress(value=0, description='binary loop', max=1024, style=ProgressStyle(description_width…"
      ]
     },
     "metadata": {},
     "output_type": "display_data"
    },
    {
     "name": "stdout",
     "output_type": "stream",
     "text": [
      "\n"
     ]
    },
    {
     "data": {
      "application/vnd.jupyter.widget-view+json": {
       "model_id": "687305432e4b4f658888df0cd2b49fb5",
       "version_major": 2,
       "version_minor": 0
      },
      "text/plain": [
       "HBox(children=(IntProgress(value=0, description='binary loop', max=4096, style=ProgressStyle(description_width…"
      ]
     },
     "metadata": {},
     "output_type": "display_data"
    },
    {
     "name": "stdout",
     "output_type": "stream",
     "text": [
      "\n"
     ]
    },
    {
     "data": {
      "application/vnd.jupyter.widget-view+json": {
       "model_id": "cf94ed0d857b45ba8ef51b0aa661c893",
       "version_major": 2,
       "version_minor": 0
      },
      "text/plain": [
       "HBox(children=(IntProgress(value=0, description='binary loop', max=4192, style=ProgressStyle(description_width…"
      ]
     },
     "metadata": {},
     "output_type": "display_data"
    },
    {
     "name": "stdout",
     "output_type": "stream",
     "text": [
      "\n"
     ]
    },
    {
     "data": {
      "application/vnd.jupyter.widget-view+json": {
       "model_id": "9a87a719fcc941b9bade967a01e717e5",
       "version_major": 2,
       "version_minor": 0
      },
      "text/plain": [
       "HBox(children=(IntProgress(value=0, description='binary loop', max=8192, style=ProgressStyle(description_width…"
      ]
     },
     "metadata": {},
     "output_type": "display_data"
    },
    {
     "name": "stdout",
     "output_type": "stream",
     "text": [
      "\n"
     ]
    }
   ],
   "source": [
    "input_data_8 = np.loadtxt('Q1_dataset/8int.txt', int)\n",
    "input_data_32 = np.loadtxt('Q1_dataset/32int.txt', int)\n",
    "input_data_128 = np.loadtxt('Q1_dataset/128int.txt', int)\n",
    "input_data_512 = np.loadtxt('Q1_dataset/512int.txt', int)\n",
    "input_data_1024 = np.loadtxt('Q1_dataset/1024int.txt', int)\n",
    "input_data_4096 = np.loadtxt('Q1_dataset/4096int.txt', int)\n",
    "input_data_4192 = np.loadtxt('Q1_dataset/4192int.txt', int)\n",
    "input_data_8192 = np.loadtxt('Q1_dataset/8192int.txt', int)\n",
    "\n",
    "bit_8 = ThreeSum(input_data_8)\n",
    "bit_32 = ThreeSum(input_data_32)\n",
    "bit_128 = ThreeSum(input_data_128)\n",
    "bit_512 = ThreeSum(input_data_512)\n",
    "bit_1024 = ThreeSum(input_data_1024)\n",
    "bit_4096 = ThreeSum(input_data_4096)\n",
    "bit_4192 = ThreeSum(input_data_4192)\n",
    "bit_8192 = ThreeSum(input_data_8192)\n",
    "\n",
    "#print(\"naive method\", bit_1024.naive_method())\n",
    "#print(\"2 sum method\", bit_1024.binary_method())\n",
    "\n",
    "input_number = [8, 32, 128, 512, 1024, 4096, 4192, 8192]\n",
    "input_number_naive = [8, 32, 128, 512, 1024]\n",
    "runtime_naive = [bit_8.runtime_naive(), bit_32.runtime_naive(), bit_128.runtime_naive(), bit_512.runtime_naive(), \\\n",
    "    bit_1024.runtime_naive()]\n",
    "runtime_binary = [bit_8.runtime_binary(), bit_32.runtime_binary(), bit_128.runtime_binary(), bit_512.runtime_binary(),\\\n",
    "    bit_1024.runtime_binary(), bit_4096.runtime_binary(), bit_4192.runtime_binary(), bit_8192.runtime_binary()]\n"
   ]
  },
  {
   "cell_type": "code",
   "execution_count": 11,
   "metadata": {},
   "outputs": [
    {
     "data": {
      "image/png": "[encoded data removed]",
      "text/plain": [
       "<Figure size 432x288 with 1 Axes>"
      ]
     },
     "metadata": {
      "needs_background": "light"
     },
     "output_type": "display_data"
    }
   ],
   "source": [
    "np.savetxt('./navie_run_time.txt', runtime_naive, fmt='%f')\n",
    "np.savetxt('./binary_run_time.txt', runtime_binary, fmt='%f')\n",
    "\n",
    "plt.plot(input_number_naive, runtime_naive, 'r', label = 'naive method' )\n",
    "plt.plot(input_number, runtime_binary, 'b', label = 'binary search')\n",
    "plt.title('time cost as a function of input numbers')\n",
    "plt.xlabel('input number')\n",
    "plt.ylabel('time cost (s)')\n",
    "plt.legend(loc='lower right')\n",
    "plt.savefig('./plot.jpg')\n",
    "plt.show()"
   ]
  },
  {
   "cell_type": "code",
   "execution_count": null,
   "metadata": {},
   "outputs": [],
   "source": []
  }
 ],
 "metadata": {
  "kernelspec": {
   "display_name": "Python 3",
   "language": "python",
   "name": "python3"
  },
  "language_info": {
   "codemirror_mode": {
    "name": "ipython",
    "version": 3
   },
   "file_extension": ".py",
   "mimetype": "text/x-python",
   "name": "python",
   "nbconvert_exporter": "python",
   "pygments_lexer": "ipython3",
   "version": "3.7.4"
  }
 },
 "nbformat": 4,
 "nbformat_minor": 2
}
