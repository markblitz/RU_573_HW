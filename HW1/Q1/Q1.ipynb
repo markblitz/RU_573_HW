{
 "cells": [
  {
   "cell_type": "code",
   "execution_count": 1,
   "metadata": {},
   "outputs": [],
   "source": [
    "import numpy as np\n",
    "import time\n",
    "from tqdm import tnrange, tqdm_notebook # this lib is used to help estmiate time\n",
    "import matplotlib.pyplot as plt"
   ]
  },
  {
   "cell_type": "code",
   "execution_count": 5,
   "metadata": {},
   "outputs": [],
   "source": [
    "class ThreeSum:\n",
    "    def __init__(self, input_data):\n",
    "        self.data = input_data\n",
    "        self.data_sorted = input_data\n",
    "\n",
    "    # this is the naive method from lecture slides\n",
    "    def naive_method(self):        \n",
    "        counter = 0\n",
    "        for i in tnrange(0, len(self.data), 1, desc='naive loop'):\n",
    "            for j in range(i+1, len(self.data), 1):\n",
    "                for k in range(j+1, len(self.data), 1):\n",
    "                    #print(i,j,k)\n",
    "                    if self.data[i] + self.data[j] + self.data[k] == 0:\n",
    "                        counter += 1\n",
    "                    \n",
    "        return counter\n",
    "\n",
    "    # runtime fucntion is used here to measure the run time as its name\n",
    "    def runtime_naive(self):\n",
    "        time_start = time.time()\n",
    "        self.naive_method()\n",
    "        time_finish = time.time()\n",
    "        time_run = time_finish - time_start\n",
    "        return time_run\n",
    "\n",
    "    # this method is from https://www.geeksforgeeks.org/binary-search/\n",
    "    # not 100% same\n",
    "    def binary_research(self, input_array, input_low, target):\n",
    "        low = input_low\n",
    "        high = len(input_array)\n",
    "        while low < high:\n",
    "            mid = (low + high) // 2\n",
    "            if input_array[mid] < target:\n",
    "                low = mid + 1\n",
    "            elif input_array[mid] > target:\n",
    "                high = mid\n",
    "            else:\n",
    "                return True\n",
    "        return False\n",
    "\n",
    "    # it's from letcure slides\n",
    "    def binary_method(self):\n",
    "        self.data_sorted.sort()\n",
    "        #print(self.data_sorted)\n",
    "        counter = 0\n",
    "        for i in tnrange(0, len(self.data_sorted), 1, desc='binary loop'):\n",
    "            for j in range(i+1, len(self.data_sorted), 1):\n",
    "                target = self.data_sorted[i] + self.data_sorted[j]\n",
    "                #print(target)\n",
    "                if self.binary_research(self.data_sorted, j+1, -target):\n",
    "                    #print(\"with i=\", self.data_sorted[i], \"j=\", self.data_sorted[j], \\\n",
    "                    #    \"search for\", -target, self.binary_research(self.data_sorted, j+1, -target))\n",
    "                    counter += 1\n",
    "        return counter\n",
    "\n",
    "    def runtime_binary(self):\n",
    "        time_start = time.time()\n",
    "        self.binary_method()\n",
    "        time_finish = time.time()\n",
    "        time_run = time_finish - time_start\n",
    "        return time_run"
   ]
  },
  {
   "cell_type": "code",
   "execution_count": 6,
   "metadata": {},
   "outputs": [
    {
     "ename": "TypingError",
     "evalue": "Failed in nopython mode pipeline (step: nopython frontend)\n\u001b[1mUntyped global name 'tnrange':\u001b[0m \u001b[1m\u001b[1mcannot determine Numba type of <class 'function'>\u001b[0m\n\u001b[1m\nFile \"<ipython-input-5-e0f4d322e53f>\", line 13:\u001b[0m\n\u001b[1m    def naive_method(self):        \n        <source elided>\n        counter = 0\n\u001b[1m        for i in tnrange(0, len(self.data), 1, desc='naive loop'):\n\u001b[0m        \u001b[1m^\u001b[0m\u001b[0m\n\u001b[0m\n\nThis error may have been caused by the following argument(s):\n- argument 0: \u001b[1mcannot determine Numba type of <class '__main__.ThreeSum'>\u001b[0m\n\nThis is not usually a problem with Numba itself but instead often caused by\nthe use of unsupported features or an issue in resolving types.\n\nTo see Python/NumPy features supported by the latest release of Numba visit:\nhttp://numba.pydata.org/numba-doc/latest/reference/pysupported.html\nand\nhttp://numba.pydata.org/numba-doc/latest/reference/numpysupported.html\n\nFor more information about typing errors and how to debug them visit:\nhttp://numba.pydata.org/numba-doc/latest/user/troubleshoot.html#my-code-doesn-t-compile\n\nIf you think your code should work with Numba, please report the error message\nand traceback, along with a minimal reproducer at:\nhttps://github.com/numba/numba/issues/new\n",
     "output_type": "error",
     "traceback": [
      "\u001b[1;31m---------------------------------------------------------------------------\u001b[0m",
      "\u001b[1;31mTypingError\u001b[0m                               Traceback (most recent call last)",
      "\u001b[1;32m<ipython-input-6-c8503bc5c9d2>\u001b[0m in \u001b[0;36m<module>\u001b[1;34m\u001b[0m\n\u001b[0;32m     24\u001b[0m \u001b[0minput_number\u001b[0m \u001b[1;33m=\u001b[0m \u001b[1;33m[\u001b[0m\u001b[1;36m8\u001b[0m\u001b[1;33m,\u001b[0m \u001b[1;36m32\u001b[0m\u001b[1;33m,\u001b[0m \u001b[1;36m128\u001b[0m\u001b[1;33m,\u001b[0m \u001b[1;36m512\u001b[0m\u001b[1;33m,\u001b[0m \u001b[1;36m1024\u001b[0m\u001b[1;33m,\u001b[0m \u001b[1;36m4096\u001b[0m\u001b[1;33m,\u001b[0m \u001b[1;36m4192\u001b[0m\u001b[1;33m,\u001b[0m \u001b[1;36m8192\u001b[0m\u001b[1;33m]\u001b[0m\u001b[1;33m\u001b[0m\u001b[1;33m\u001b[0m\u001b[0m\n\u001b[0;32m     25\u001b[0m \u001b[0minput_number_naive\u001b[0m \u001b[1;33m=\u001b[0m \u001b[1;33m[\u001b[0m\u001b[1;36m8\u001b[0m\u001b[1;33m,\u001b[0m \u001b[1;36m32\u001b[0m\u001b[1;33m,\u001b[0m \u001b[1;36m128\u001b[0m\u001b[1;33m,\u001b[0m \u001b[1;36m512\u001b[0m\u001b[1;33m,\u001b[0m \u001b[1;36m1024\u001b[0m\u001b[1;33m]\u001b[0m\u001b[1;33m\u001b[0m\u001b[1;33m\u001b[0m\u001b[0m\n\u001b[1;32m---> 26\u001b[1;33m runtime_naive = [bit_8.runtime_naive(), bit_32.runtime_naive(), bit_128.runtime_naive(), bit_512.runtime_naive(), \\\n\u001b[0m\u001b[0;32m     27\u001b[0m     bit_1024.runtime_naive()]\n\u001b[0;32m     28\u001b[0m runtime_binary = [bit_8.runtime_binary(), bit_32.runtime_binary(), bit_128.runtime_binary(), bit_512.runtime_binary(),\\\n",
      "\u001b[1;32m<ipython-input-5-e0f4d322e53f>\u001b[0m in \u001b[0;36mruntime_naive\u001b[1;34m(self)\u001b[0m\n\u001b[0;32m     23\u001b[0m     \u001b[1;32mdef\u001b[0m \u001b[0mruntime_naive\u001b[0m\u001b[1;33m(\u001b[0m\u001b[0mself\u001b[0m\u001b[1;33m)\u001b[0m\u001b[1;33m:\u001b[0m\u001b[1;33m\u001b[0m\u001b[1;33m\u001b[0m\u001b[0m\n\u001b[0;32m     24\u001b[0m         \u001b[0mtime_start\u001b[0m \u001b[1;33m=\u001b[0m \u001b[0mtime\u001b[0m\u001b[1;33m.\u001b[0m\u001b[0mtime\u001b[0m\u001b[1;33m(\u001b[0m\u001b[1;33m)\u001b[0m\u001b[1;33m\u001b[0m\u001b[1;33m\u001b[0m\u001b[0m\n\u001b[1;32m---> 25\u001b[1;33m         \u001b[0mself\u001b[0m\u001b[1;33m.\u001b[0m\u001b[0mnaive_method\u001b[0m\u001b[1;33m(\u001b[0m\u001b[1;33m)\u001b[0m\u001b[1;33m\u001b[0m\u001b[1;33m\u001b[0m\u001b[0m\n\u001b[0m\u001b[0;32m     26\u001b[0m         \u001b[0mtime_finish\u001b[0m \u001b[1;33m=\u001b[0m \u001b[0mtime\u001b[0m\u001b[1;33m.\u001b[0m\u001b[0mtime\u001b[0m\u001b[1;33m(\u001b[0m\u001b[1;33m)\u001b[0m\u001b[1;33m\u001b[0m\u001b[1;33m\u001b[0m\u001b[0m\n\u001b[0;32m     27\u001b[0m         \u001b[0mtime_run\u001b[0m \u001b[1;33m=\u001b[0m \u001b[0mtime_finish\u001b[0m \u001b[1;33m-\u001b[0m \u001b[0mtime_start\u001b[0m\u001b[1;33m\u001b[0m\u001b[1;33m\u001b[0m\u001b[0m\n",
      "\u001b[1;32m~\\Anaconda3\\lib\\site-packages\\numba\\dispatcher.py\u001b[0m in \u001b[0;36m_compile_for_args\u001b[1;34m(self, *args, **kws)\u001b[0m\n\u001b[0;32m    374\u001b[0m                 \u001b[0me\u001b[0m\u001b[1;33m.\u001b[0m\u001b[0mpatch_message\u001b[0m\u001b[1;33m(\u001b[0m\u001b[0mmsg\u001b[0m\u001b[1;33m)\u001b[0m\u001b[1;33m\u001b[0m\u001b[1;33m\u001b[0m\u001b[0m\n\u001b[0;32m    375\u001b[0m \u001b[1;33m\u001b[0m\u001b[0m\n\u001b[1;32m--> 376\u001b[1;33m             \u001b[0merror_rewrite\u001b[0m\u001b[1;33m(\u001b[0m\u001b[0me\u001b[0m\u001b[1;33m,\u001b[0m \u001b[1;34m'typing'\u001b[0m\u001b[1;33m)\u001b[0m\u001b[1;33m\u001b[0m\u001b[1;33m\u001b[0m\u001b[0m\n\u001b[0m\u001b[0;32m    377\u001b[0m         \u001b[1;32mexcept\u001b[0m \u001b[0merrors\u001b[0m\u001b[1;33m.\u001b[0m\u001b[0mUnsupportedError\u001b[0m \u001b[1;32mas\u001b[0m \u001b[0me\u001b[0m\u001b[1;33m:\u001b[0m\u001b[1;33m\u001b[0m\u001b[1;33m\u001b[0m\u001b[0m\n\u001b[0;32m    378\u001b[0m             \u001b[1;31m# Something unsupported is present in the user code, add help info\u001b[0m\u001b[1;33m\u001b[0m\u001b[1;33m\u001b[0m\u001b[1;33m\u001b[0m\u001b[0m\n",
      "\u001b[1;32m~\\Anaconda3\\lib\\site-packages\\numba\\dispatcher.py\u001b[0m in \u001b[0;36merror_rewrite\u001b[1;34m(e, issue_type)\u001b[0m\n\u001b[0;32m    341\u001b[0m                 \u001b[1;32mraise\u001b[0m \u001b[0me\u001b[0m\u001b[1;33m\u001b[0m\u001b[1;33m\u001b[0m\u001b[0m\n\u001b[0;32m    342\u001b[0m             \u001b[1;32melse\u001b[0m\u001b[1;33m:\u001b[0m\u001b[1;33m\u001b[0m\u001b[1;33m\u001b[0m\u001b[0m\n\u001b[1;32m--> 343\u001b[1;33m                 \u001b[0mreraise\u001b[0m\u001b[1;33m(\u001b[0m\u001b[0mtype\u001b[0m\u001b[1;33m(\u001b[0m\u001b[0me\u001b[0m\u001b[1;33m)\u001b[0m\u001b[1;33m,\u001b[0m \u001b[0me\u001b[0m\u001b[1;33m,\u001b[0m \u001b[1;32mNone\u001b[0m\u001b[1;33m)\u001b[0m\u001b[1;33m\u001b[0m\u001b[1;33m\u001b[0m\u001b[0m\n\u001b[0m\u001b[0;32m    344\u001b[0m \u001b[1;33m\u001b[0m\u001b[0m\n\u001b[0;32m    345\u001b[0m         \u001b[0margtypes\u001b[0m \u001b[1;33m=\u001b[0m \u001b[1;33m[\u001b[0m\u001b[1;33m]\u001b[0m\u001b[1;33m\u001b[0m\u001b[1;33m\u001b[0m\u001b[0m\n",
      "\u001b[1;32m~\\Anaconda3\\lib\\site-packages\\numba\\six.py\u001b[0m in \u001b[0;36mreraise\u001b[1;34m(tp, value, tb)\u001b[0m\n\u001b[0;32m    656\u001b[0m             \u001b[0mvalue\u001b[0m \u001b[1;33m=\u001b[0m \u001b[0mtp\u001b[0m\u001b[1;33m(\u001b[0m\u001b[1;33m)\u001b[0m\u001b[1;33m\u001b[0m\u001b[1;33m\u001b[0m\u001b[0m\n\u001b[0;32m    657\u001b[0m         \u001b[1;32mif\u001b[0m \u001b[0mvalue\u001b[0m\u001b[1;33m.\u001b[0m\u001b[0m__traceback__\u001b[0m \u001b[1;32mis\u001b[0m \u001b[1;32mnot\u001b[0m \u001b[0mtb\u001b[0m\u001b[1;33m:\u001b[0m\u001b[1;33m\u001b[0m\u001b[1;33m\u001b[0m\u001b[0m\n\u001b[1;32m--> 658\u001b[1;33m             \u001b[1;32mraise\u001b[0m \u001b[0mvalue\u001b[0m\u001b[1;33m.\u001b[0m\u001b[0mwith_traceback\u001b[0m\u001b[1;33m(\u001b[0m\u001b[0mtb\u001b[0m\u001b[1;33m)\u001b[0m\u001b[1;33m\u001b[0m\u001b[1;33m\u001b[0m\u001b[0m\n\u001b[0m\u001b[0;32m    659\u001b[0m         \u001b[1;32mraise\u001b[0m \u001b[0mvalue\u001b[0m\u001b[1;33m\u001b[0m\u001b[1;33m\u001b[0m\u001b[0m\n\u001b[0;32m    660\u001b[0m \u001b[1;33m\u001b[0m\u001b[0m\n",
      "\u001b[1;31mTypingError\u001b[0m: Failed in nopython mode pipeline (step: nopython frontend)\n\u001b[1mUntyped global name 'tnrange':\u001b[0m \u001b[1m\u001b[1mcannot determine Numba type of <class 'function'>\u001b[0m\n\u001b[1m\nFile \"<ipython-input-5-e0f4d322e53f>\", line 13:\u001b[0m\n\u001b[1m    def naive_method(self):        \n        <source elided>\n        counter = 0\n\u001b[1m        for i in tnrange(0, len(self.data), 1, desc='naive loop'):\n\u001b[0m        \u001b[1m^\u001b[0m\u001b[0m\n\u001b[0m\n\nThis error may have been caused by the following argument(s):\n- argument 0: \u001b[1mcannot determine Numba type of <class '__main__.ThreeSum'>\u001b[0m\n\nThis is not usually a problem with Numba itself but instead often caused by\nthe use of unsupported features or an issue in resolving types.\n\nTo see Python/NumPy features supported by the latest release of Numba visit:\nhttp://numba.pydata.org/numba-doc/latest/reference/pysupported.html\nand\nhttp://numba.pydata.org/numba-doc/latest/reference/numpysupported.html\n\nFor more information about typing errors and how to debug them visit:\nhttp://numba.pydata.org/numba-doc/latest/user/troubleshoot.html#my-code-doesn-t-compile\n\nIf you think your code should work with Numba, please report the error message\nand traceback, along with a minimal reproducer at:\nhttps://github.com/numba/numba/issues/new\n"
     ]
    }
   ],
   "source": [
    "# input data\n",
    "input_data_8 = np.loadtxt('Q1_dataset/8int.txt', int)\n",
    "input_data_32 = np.loadtxt('Q1_dataset/32int.txt', int)\n",
    "input_data_128 = np.loadtxt('Q1_dataset/128int.txt', int)\n",
    "input_data_512 = np.loadtxt('Q1_dataset/512int.txt', int)\n",
    "input_data_1024 = np.loadtxt('Q1_dataset/1024int.txt', int)\n",
    "input_data_4096 = np.loadtxt('Q1_dataset/4096int.txt', int)\n",
    "input_data_4192 = np.loadtxt('Q1_dataset/4192int.txt', int)\n",
    "input_data_8192 = np.loadtxt('Q1_dataset/8192int.txt', int)\n",
    "\n",
    "bit_8 = ThreeSum(input_data_8)\n",
    "bit_32 = ThreeSum(input_data_32)\n",
    "bit_128 = ThreeSum(input_data_128)\n",
    "bit_512 = ThreeSum(input_data_512)\n",
    "bit_1024 = ThreeSum(input_data_1024)\n",
    "bit_4096 = ThreeSum(input_data_4096)\n",
    "bit_4192 = ThreeSum(input_data_4192)\n",
    "bit_8192 = ThreeSum(input_data_8192)\n",
    "\n",
    "#print(\"naive method\", bit_1024.naive_method())\n",
    "#print(\"2 sum method\", bit_1024.binary_method())\n",
    "\n",
    "# get run time data\n",
    "input_number = [8, 32, 128, 512, 1024, 4096, 4192, 8192]\n",
    "input_number_naive = [8, 32, 128, 512, 1024]\n",
    "runtime_naive = [bit_8.runtime_naive(), bit_32.runtime_naive(), bit_128.runtime_naive(), bit_512.runtime_naive(), \\\n",
    "    bit_1024.runtime_naive()]\n",
    "runtime_binary = [bit_8.runtime_binary(), bit_32.runtime_binary(), bit_128.runtime_binary(), bit_512.runtime_binary(),\\\n",
    "    bit_1024.runtime_binary(), bit_4096.runtime_binary(), bit_4192.runtime_binary(), bit_8192.runtime_binary()]\n"
   ]
  },
  {
   "cell_type": "code",
   "execution_count": 4,
   "metadata": {},
   "outputs": [
    {
     "data": {
      "image/png": "[encoded data removed]",
      "text/plain": [
       "<Figure size 432x288 with 1 Axes>"
      ]
     },
     "metadata": {
      "needs_background": "light"
     },
     "output_type": "display_data"
    }
   ],
   "source": [
    "# save data and plot\n",
    "np.savetxt('./navie_run_time.txt', runtime_naive, fmt='%f')\n",
    "np.savetxt('./binary_run_time.txt', runtime_binary, fmt='%f')\n",
    "\n",
    "plt.plot(input_number_naive, runtime_naive, 'r', label = 'naive method' )\n",
    "plt.plot(input_number, runtime_binary, 'b', label = 'binary search')\n",
    "plt.title('time cost as a function of input numbers')\n",
    "plt.xlabel('input number')\n",
    "plt.ylabel('time cost (s)')\n",
    "plt.legend(loc='lower right')\n",
    "plt.savefig('./plot.jpg')\n",
    "plt.show()"
   ]
  },
  {
   "cell_type": "code",
   "execution_count": null,
   "metadata": {},
   "outputs": [],
   "source": []
  }
 ],
 "metadata": {
  "kernelspec": {
   "display_name": "Python 3",
   "language": "python",
   "name": "python3"
  },
  "language_info": {
   "codemirror_mode": {
    "name": "ipython",
    "version": 3
   },
   "file_extension": ".py",
   "mimetype": "text/x-python",
   "name": "python",
   "nbconvert_exporter": "python",
   "pygments_lexer": "ipython3",
   "version": "3.7.4"
  }
 },
 "nbformat": 4,
 "nbformat_minor": 4
}
