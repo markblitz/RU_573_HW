{
 "cells": [
  {
   "cell_type": "code",
   "execution_count": 1,
   "metadata": {},
   "outputs": [],
   "source": [
    "import numpy as np\n",
    "import time\n",
    "from tqdm import tqdm, tqdm_notebook, tnrange\n",
    "import matplotlib.pyplot as plt"
   ]
  },
  {
   "cell_type": "code",
   "execution_count": 2,
   "metadata": {},
   "outputs": [],
   "source": [
    "class QuickFind:\n",
    "    def __init__(self, input_size, input_array):\n",
    "        self.size = input_size\n",
    "        self.id = np.arange(self.size)\n",
    "        self.to_check = input_array\n",
    "        \n",
    "    def is_connected(self, input_1, input_2):\n",
    "        #print(input_1, input_2)\n",
    "        if self.id[input_1] == self.id[input_2]:\n",
    "            return True\n",
    "        else:\n",
    "            return False\n",
    "        \n",
    "    def union(self, input_1, input_2):\n",
    "        if self.id[input_1] < self.id[input_2]:\n",
    "            bigger_id = self.id[input_2]\n",
    "            smaller_id = self.id[input_1]\n",
    "        else:\n",
    "            bigger_id = self.id[input_1]\n",
    "            smaller_id = self.id[input_2]\n",
    "        for i in self.id:\n",
    "            if self.id[i] == smaller_id:\n",
    "                self.id[i] = bigger_id\n",
    "                \n",
    "    def UnionFind(self):\n",
    "        for i in tqdm_notebook(self.to_check, desc='Quick find method'):\n",
    "            #print(i)\n",
    "            if not self.is_connected(i[0], i[1]):\n",
    "                self.union(i[0], i[1])\n",
    "                #print(i[0], i[1], \" are connected now!\\n\")\n",
    "                \n",
    "    def runtime(self):\n",
    "        time_start = time.time()\n",
    "        self.UnionFind()\n",
    "        time_finish = time.time()\n",
    "        time_run = time_finish - time_start\n",
    "        return time_run\n",
    "        "
   ]
  },
  {
   "cell_type": "code",
   "execution_count": 3,
   "metadata": {},
   "outputs": [],
   "source": [
    "class QuickUnion:\n",
    "    def __init__(self, input_size, input_array):\n",
    "        self.size = input_size\n",
    "        self.id = np.arange(self.size)\n",
    "        self.to_check = input_array\n",
    "        \n",
    "    def root(self, input):\n",
    "        root = input\n",
    "        while root != self.id[input]:\n",
    "            root = self.id[root]\n",
    "        return root\n",
    "    \n",
    "    def is_connected(self, input_1, input_2):\n",
    "        if self.root(input_1) == self.root(input_2):\n",
    "            return True\n",
    "        else:\n",
    "            return False\n",
    "        \n",
    "    def union(self, input_1, input_2):\n",
    "        root_1 = self.root(input_1)\n",
    "        root_2 = self.root(input_2)\n",
    "        #if input_1 > input_2:\n",
    "        self.id[root_2] = root_1\n",
    "        #else:\n",
    "        #    self.id[root_1] = self.root(input_2)\n",
    "            \n",
    "    def UnionFind(self):\n",
    "        for i in tqdm_notebook(self.to_check, desc='Quick union method'):\n",
    "            #print(i)\n",
    "            if not self.is_connected(i[0], i[1]):\n",
    "                self.union(i[0], i[1])\n",
    "                #print(i[0], i[1], \" are connected now!\\n\")\n",
    "        \n",
    "    def runtime(self):\n",
    "        time_start = time.time()\n",
    "        self.UnionFind()\n",
    "        time_finish = time.time()\n",
    "        time_run = time_finish - time_start\n",
    "        return time_run            "
   ]
  },
  {
   "cell_type": "code",
   "execution_count": 4,
   "metadata": {},
   "outputs": [],
   "source": [
    "class WeightedUnion:\n",
    "    def __init__(self, input_size, input_array):\n",
    "        self.size = input_size\n",
    "        self.id = np.arange(self.size)\n",
    "        self.to_check = input_array\n",
    "        self.tree_size = np.ones(input_size, int) \n",
    "\n",
    "        \n",
    "    def root(self, input):\n",
    "        root = input\n",
    "        while root != self.id[input]:\n",
    "            root = self.id[root]\n",
    "        return root\n",
    "    \n",
    "    def is_connected(self, input_1, input_2):\n",
    "        if self.root(input_1) == self.root(input_2):\n",
    "            return True\n",
    "        else:\n",
    "            return False\n",
    "        \n",
    "    def union(self, input_1, input_2):\n",
    "        root_1 = self.root(input_1)\n",
    "        root_2 = self.root(input_2)\n",
    "        if self.tree_size[root_1] > self.tree_size[root_2]:\n",
    "            self.id[root_1] = root_2\n",
    "            self.tree_size[root_2] += self.tree_size[root_1]\n",
    "        else:\n",
    "            self.id[root_2] = root_1\n",
    "            self.tree_size[root_1] += self.tree_size[root_2]\n",
    "            \n",
    "    def UnionFind(self):\n",
    "        for i in tqdm_notebook(self.to_check, desc='Weighted union method'):\n",
    "            #print(i)\n",
    "            if not self.is_connected(i[0], i[1]):\n",
    "                self.union(i[0], i[1])\n",
    "                #print(i[0], i[1], \" are connected now!\\n\")\n",
    "        \n",
    "    def runtime(self):\n",
    "        time_start = time.time()\n",
    "        self.UnionFind()\n",
    "        time_finish = time.time()\n",
    "        time_run = time_finish - time_start\n",
    "        return time_run            "
   ]
  },
  {
   "cell_type": "code",
   "execution_count": 5,
   "metadata": {},
   "outputs": [],
   "source": [
    "input_data_8 = np.loadtxt('Q2_dataset/8pair.txt', int)\n",
    "input_data_32 = np.loadtxt('Q2_dataset/32pair.txt', int)\n",
    "input_data_128 = np.loadtxt('Q2_dataset/128pair.txt', int)\n",
    "input_data_512 = np.loadtxt('Q2_dataset/512pair.txt', int)\n",
    "input_data_1024 = np.loadtxt('Q2_dataset/1024pair.txt', int)\n",
    "input_data_4096 = np.loadtxt('Q2_dataset/4096pair.txt', int)\n",
    "input_data_8192 = np.loadtxt('Q2_dataset/8192pair.txt', int)\n",
    "\n",
    "find_8 = QuickFind(8192, input_data_8)\n",
    "find_32 = QuickFind(8192, input_data_32)\n",
    "find_128 = QuickFind(8192, input_data_128)\n",
    "find_512 = QuickFind(8192, input_data_512)\n",
    "find_1024 = QuickFind(8192, input_data_1024)\n",
    "find_4096 = QuickFind(8192, input_data_4096)\n",
    "find_8192 = QuickFind(8192, input_data_8192)\n",
    "\n",
    "union_8 = QuickUnion(8192, input_data_8)\n",
    "union_32 = QuickUnion(8192, input_data_32)\n",
    "union_128 = QuickUnion(8192, input_data_128)\n",
    "union_512 = QuickUnion(8192, input_data_512)\n",
    "union_1024 = QuickUnion(8192, input_data_1024)\n",
    "union_4096 = QuickUnion(8192, input_data_4096)\n",
    "union_8192 = QuickUnion(8192, input_data_8192)\n",
    "\n",
    "weighted_8 = WeightedUnion(8192, input_data_8)\n",
    "weighted_32 = WeightedUnion(8192, input_data_32)\n",
    "weighted_128 = WeightedUnion(8192, input_data_128)\n",
    "weighted_512 = WeightedUnion(8192, input_data_512)\n",
    "weighted_1024 = WeightedUnion(8192, input_data_1024)\n",
    "weighted_4096 = WeightedUnion(8192, input_data_4096)\n",
    "weighted_8192 = WeightedUnion(8192, input_data_8192)\n",
    "\n",
    "#print(pair_8.is_connected(input_data_8[0,0], input_data_8[0,1]))\n",
    "#print(find_1024.runtime())\n",
    "#print(pair_8.id[2690], pair_8.id[4649])\n",
    "#print(input_data_8)\n"
   ]
  },
  {
   "cell_type": "code",
   "execution_count": 6,
   "metadata": {
    "scrolled": false
   },
   "outputs": [
    {
     "data": {
      "application/vnd.jupyter.widget-view+json": {
       "model_id": "2a9f650cea7c41b8a6386ec9a44e85b8",
       "version_major": 2,
       "version_minor": 0
      },
      "text/plain": [
       "HBox(children=(IntProgress(value=0, description='Quick find method', max=8, style=ProgressStyle(description_wi…"
      ]
     },
     "metadata": {},
     "output_type": "display_data"
    },
    {
     "name": "stdout",
     "output_type": "stream",
     "text": [
      "\n"
     ]
    },
    {
     "data": {
      "application/vnd.jupyter.widget-view+json": {
       "model_id": "7df25a1df27249529d5329a3f5b53b4b",
       "version_major": 2,
       "version_minor": 0
      },
      "text/plain": [
       "HBox(children=(IntProgress(value=0, description='Quick find method', max=32, style=ProgressStyle(description_w…"
      ]
     },
     "metadata": {},
     "output_type": "display_data"
    },
    {
     "name": "stdout",
     "output_type": "stream",
     "text": [
      "\n"
     ]
    },
    {
     "data": {
      "application/vnd.jupyter.widget-view+json": {
       "model_id": "23e506c2a78044dab2597c8705be61a8",
       "version_major": 2,
       "version_minor": 0
      },
      "text/plain": [
       "HBox(children=(IntProgress(value=0, description='Quick find method', max=128, style=ProgressStyle(description_…"
      ]
     },
     "metadata": {},
     "output_type": "display_data"
    },
    {
     "name": "stdout",
     "output_type": "stream",
     "text": [
      "\n"
     ]
    },
    {
     "data": {
      "application/vnd.jupyter.widget-view+json": {
       "model_id": "2de741ba1695430b91221f7c335fc271",
       "version_major": 2,
       "version_minor": 0
      },
      "text/plain": [
       "HBox(children=(IntProgress(value=0, description='Quick find method', max=512, style=ProgressStyle(description_…"
      ]
     },
     "metadata": {},
     "output_type": "display_data"
    },
    {
     "name": "stdout",
     "output_type": "stream",
     "text": [
      "\n"
     ]
    },
    {
     "data": {
      "application/vnd.jupyter.widget-view+json": {
       "model_id": "49a204630c944801ab7b9d6f715906f5",
       "version_major": 2,
       "version_minor": 0
      },
      "text/plain": [
       "HBox(children=(IntProgress(value=0, description='Quick find method', max=1024, style=ProgressStyle(description…"
      ]
     },
     "metadata": {},
     "output_type": "display_data"
    },
    {
     "name": "stdout",
     "output_type": "stream",
     "text": [
      "\n"
     ]
    },
    {
     "data": {
      "application/vnd.jupyter.widget-view+json": {
       "model_id": "23a8de93b60d4e6bb1cf10aa074e3d0e",
       "version_major": 2,
       "version_minor": 0
      },
      "text/plain": [
       "HBox(children=(IntProgress(value=0, description='Quick find method', max=4096, style=ProgressStyle(description…"
      ]
     },
     "metadata": {},
     "output_type": "display_data"
    },
    {
     "name": "stdout",
     "output_type": "stream",
     "text": [
      "\n"
     ]
    },
    {
     "data": {
      "application/vnd.jupyter.widget-view+json": {
       "model_id": "f8f8ca97df7b42ff99c658e9ac1d432d",
       "version_major": 2,
       "version_minor": 0
      },
      "text/plain": [
       "HBox(children=(IntProgress(value=0, description='Quick find method', max=8192, style=ProgressStyle(description…"
      ]
     },
     "metadata": {},
     "output_type": "display_data"
    },
    {
     "name": "stdout",
     "output_type": "stream",
     "text": [
      "\n"
     ]
    }
   ],
   "source": [
    "runtime_quick_find = [find_8.runtime(), find_32.runtime(), find_128.runtime(), find_512.runtime(), \\\n",
    "    find_1024.runtime(), find_4096.runtime(), find_8192.runtime()]"
   ]
  },
  {
   "cell_type": "code",
   "execution_count": 7,
   "metadata": {},
   "outputs": [
    {
     "data": {
      "application/vnd.jupyter.widget-view+json": {
       "model_id": "70c01093546742e0a218489eddc82a2a",
       "version_major": 2,
       "version_minor": 0
      },
      "text/plain": [
       "HBox(children=(IntProgress(value=0, description='Quick union method', max=8, style=ProgressStyle(description_w…"
      ]
     },
     "metadata": {},
     "output_type": "display_data"
    },
    {
     "name": "stdout",
     "output_type": "stream",
     "text": [
      "\n"
     ]
    },
    {
     "data": {
      "application/vnd.jupyter.widget-view+json": {
       "model_id": "4f3af1f3648e493f91b5741b83b1f2da",
       "version_major": 2,
       "version_minor": 0
      },
      "text/plain": [
       "HBox(children=(IntProgress(value=0, description='Quick union method', max=32, style=ProgressStyle(description_…"
      ]
     },
     "metadata": {},
     "output_type": "display_data"
    },
    {
     "name": "stdout",
     "output_type": "stream",
     "text": [
      "\n"
     ]
    },
    {
     "data": {
      "application/vnd.jupyter.widget-view+json": {
       "model_id": "e50bce863b9e4588bc4857a40e6b3d0b",
       "version_major": 2,
       "version_minor": 0
      },
      "text/plain": [
       "HBox(children=(IntProgress(value=0, description='Quick union method', max=128, style=ProgressStyle(description…"
      ]
     },
     "metadata": {},
     "output_type": "display_data"
    },
    {
     "name": "stdout",
     "output_type": "stream",
     "text": [
      "\n"
     ]
    },
    {
     "data": {
      "application/vnd.jupyter.widget-view+json": {
       "model_id": "bfc0450285f743649290a1c718ed8417",
       "version_major": 2,
       "version_minor": 0
      },
      "text/plain": [
       "HBox(children=(IntProgress(value=0, description='Quick union method', max=512, style=ProgressStyle(description…"
      ]
     },
     "metadata": {},
     "output_type": "display_data"
    },
    {
     "name": "stdout",
     "output_type": "stream",
     "text": [
      "\n"
     ]
    },
    {
     "data": {
      "application/vnd.jupyter.widget-view+json": {
       "model_id": "48c700b771f54003ac0f46305b49790a",
       "version_major": 2,
       "version_minor": 0
      },
      "text/plain": [
       "HBox(children=(IntProgress(value=0, description='Quick union method', max=1024, style=ProgressStyle(descriptio…"
      ]
     },
     "metadata": {},
     "output_type": "display_data"
    },
    {
     "name": "stdout",
     "output_type": "stream",
     "text": [
      "\n"
     ]
    },
    {
     "data": {
      "application/vnd.jupyter.widget-view+json": {
       "model_id": "9ebf1d3612ec4c9b8536ff7631c50881",
       "version_major": 2,
       "version_minor": 0
      },
      "text/plain": [
       "HBox(children=(IntProgress(value=0, description='Quick union method', max=4096, style=ProgressStyle(descriptio…"
      ]
     },
     "metadata": {},
     "output_type": "display_data"
    },
    {
     "name": "stdout",
     "output_type": "stream",
     "text": [
      "\n"
     ]
    },
    {
     "data": {
      "application/vnd.jupyter.widget-view+json": {
       "model_id": "50b90bb727834aa3b0f59225e2b1c2ec",
       "version_major": 2,
       "version_minor": 0
      },
      "text/plain": [
       "HBox(children=(IntProgress(value=0, description='Quick union method', max=8192, style=ProgressStyle(descriptio…"
      ]
     },
     "metadata": {},
     "output_type": "display_data"
    },
    {
     "name": "stdout",
     "output_type": "stream",
     "text": [
      "\n"
     ]
    }
   ],
   "source": [
    "runtime_quick_union = [union_8.runtime(), union_32.runtime(), union_128.runtime(), union_512.runtime(), \\\n",
    "    union_1024.runtime(), union_4096.runtime(), union_8192.runtime()]"
   ]
  },
  {
   "cell_type": "code",
   "execution_count": 8,
   "metadata": {},
   "outputs": [
    {
     "data": {
      "application/vnd.jupyter.widget-view+json": {
       "model_id": "8c4b1a084ddb4723a943697aee4f1a05",
       "version_major": 2,
       "version_minor": 0
      },
      "text/plain": [
       "HBox(children=(IntProgress(value=0, description='Weighted union method', max=8, style=ProgressStyle(descriptio…"
      ]
     },
     "metadata": {},
     "output_type": "display_data"
    },
    {
     "name": "stdout",
     "output_type": "stream",
     "text": [
      "\n"
     ]
    },
    {
     "data": {
      "application/vnd.jupyter.widget-view+json": {
       "model_id": "384b8dc85dfb4527b0c83c04c20c471d",
       "version_major": 2,
       "version_minor": 0
      },
      "text/plain": [
       "HBox(children=(IntProgress(value=0, description='Weighted union method', max=32, style=ProgressStyle(descripti…"
      ]
     },
     "metadata": {},
     "output_type": "display_data"
    },
    {
     "name": "stdout",
     "output_type": "stream",
     "text": [
      "\n"
     ]
    },
    {
     "data": {
      "application/vnd.jupyter.widget-view+json": {
       "model_id": "0aea40378496461d815dcd43e70f2984",
       "version_major": 2,
       "version_minor": 0
      },
      "text/plain": [
       "HBox(children=(IntProgress(value=0, description='Weighted union method', max=128, style=ProgressStyle(descript…"
      ]
     },
     "metadata": {},
     "output_type": "display_data"
    },
    {
     "name": "stdout",
     "output_type": "stream",
     "text": [
      "\n"
     ]
    },
    {
     "data": {
      "application/vnd.jupyter.widget-view+json": {
       "model_id": "d5006f49fe5043e6950f57838dfce59c",
       "version_major": 2,
       "version_minor": 0
      },
      "text/plain": [
       "HBox(children=(IntProgress(value=0, description='Weighted union method', max=512, style=ProgressStyle(descript…"
      ]
     },
     "metadata": {},
     "output_type": "display_data"
    },
    {
     "name": "stdout",
     "output_type": "stream",
     "text": [
      "\n"
     ]
    },
    {
     "data": {
      "application/vnd.jupyter.widget-view+json": {
       "model_id": "1854e5d82c56455d88e24dce7e498e01",
       "version_major": 2,
       "version_minor": 0
      },
      "text/plain": [
       "HBox(children=(IntProgress(value=0, description='Weighted union method', max=1024, style=ProgressStyle(descrip…"
      ]
     },
     "metadata": {},
     "output_type": "display_data"
    },
    {
     "name": "stdout",
     "output_type": "stream",
     "text": [
      "\n"
     ]
    },
    {
     "data": {
      "application/vnd.jupyter.widget-view+json": {
       "model_id": "0f5616bb6fc0490ab9a726387bc61a07",
       "version_major": 2,
       "version_minor": 0
      },
      "text/plain": [
       "HBox(children=(IntProgress(value=0, description='Weighted union method', max=4096, style=ProgressStyle(descrip…"
      ]
     },
     "metadata": {},
     "output_type": "display_data"
    },
    {
     "name": "stdout",
     "output_type": "stream",
     "text": [
      "\n"
     ]
    },
    {
     "data": {
      "application/vnd.jupyter.widget-view+json": {
       "model_id": "25ce0249100b4ad6b9686e641b30fecf",
       "version_major": 2,
       "version_minor": 0
      },
      "text/plain": [
       "HBox(children=(IntProgress(value=0, description='Weighted union method', max=8192, style=ProgressStyle(descrip…"
      ]
     },
     "metadata": {},
     "output_type": "display_data"
    },
    {
     "name": "stdout",
     "output_type": "stream",
     "text": [
      "\n"
     ]
    }
   ],
   "source": [
    "runtime_weighted_union = [weighted_8.runtime(), weighted_32.runtime(), weighted_128.runtime(), weighted_512.runtime(), \\\n",
    "    weighted_1024.runtime(), weighted_4096.runtime(), weighted_8192.runtime()]"
   ]
  },
  {
   "cell_type": "code",
   "execution_count": 9,
   "metadata": {},
   "outputs": [],
   "source": [
    "np.savetxt('./quick find runtime.txt', runtime_quick_find, fmt='%f')\n",
    "np.savetxt('./quick union runtime.txt', runtime_quick_union, fmt='%f')\n",
    "np.savetxt('./weighted union runtime.txt', runtime_weighted_union, fmt='%f')"
   ]
  },
  {
   "cell_type": "code",
   "execution_count": 10,
   "metadata": {},
   "outputs": [
    {
     "data": {
      "image/png": "[encoded data removed]",
      "text/plain": [
       "<Figure size 640x480 with 2 Axes>"
      ]
     },
     "metadata": {
      "needs_background": "light"
     },
     "output_type": "display_data"
    }
   ],
   "source": [
    "input_number = [8, 32, 128, 512, 1024, 4096, 8192]\n",
    "plt.figure(figsize=(8,6), dpi=80)\n",
    "plt.subplot(1,2,1)\n",
    "plt.plot(input_number, runtime_quick_find, 'r' , label = 'quick find')\n",
    "plt.plot(input_number, runtime_quick_union, 'b', label = 'quick union')\n",
    "plt.plot(input_number, runtime_weighted_union, 'g', label = 'weighted union')\n",
    "plt.legend(loc='upper left')\n",
    "#plt.plot(input_number, runtime_quick_union, 'b', input_number, runtime_weighted_union, 'g')\n",
    "plt.title('three methods')\n",
    "plt.xlabel('input number')\n",
    "plt.ylabel('time cost (s)')\n",
    "\n",
    "plt.subplot(1,2,2)\n",
    "#plt.plot(input_number, runtime_quick_find, 'r' , label = 'quick find')\n",
    "plt.plot(input_number, runtime_quick_union, 'b', label = 'quick union')\n",
    "plt.plot(input_number, runtime_weighted_union, 'g', label = 'weighted union')\n",
    "plt.legend(loc='upper left')\n",
    "#plt.plot(input_number, runtime_quick_union, 'b', input_number, runtime_weighted_union, 'g')\n",
    "plt.title('two union methods')\n",
    "plt.xlabel('input number')\n",
    "plt.ylabel('time cost (s)')\n",
    "plt.savefig('./plot.jpg')\n",
    "plt.show()"
   ]
  },
  {
   "cell_type": "code",
   "execution_count": null,
   "metadata": {},
   "outputs": [],
   "source": []
  }
 ],
 "metadata": {
  "kernelspec": {
   "display_name": "Python 3",
   "language": "python",
   "name": "python3"
  },
  "language_info": {
   "codemirror_mode": {
    "name": "ipython",
    "version": 3
   },
   "file_extension": ".py",
   "mimetype": "text/x-python",
   "name": "python",
   "nbconvert_exporter": "python",
   "pygments_lexer": "ipython3",
   "version": "3.7.4"
  }
 },
 "nbformat": 4,
 "nbformat_minor": 2
}
