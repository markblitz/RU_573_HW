{
 "cells": [
  {
   "cell_type": "code",
   "execution_count": 1,
   "metadata": {},
   "outputs": [],
   "source": [
    "import numpy as np\n",
    "import time\n",
    "from tqdm import tnrange, tqdm_notebook\n",
    "import matplotlib.pyplot as plt"
   ]
  },
  {
   "cell_type": "code",
   "execution_count": 2,
   "metadata": {},
   "outputs": [],
   "source": [
    "class Fast3Sum:\n",
    "    def __init__(self, input_data):\n",
    "        self.data = input_data\n",
    "        self.data.sort()\n",
    "        \n",
    "    def twosum(self, target):\n",
    "        counter = 0\n",
    "        min = 0\n",
    "        max = len(self.data) - 1\n",
    "        \n",
    "        while min < max:\n",
    "            if self.data[min] + self.data[max] == target:\n",
    "                counter += 1\n",
    "                min += 1\n",
    "            elif self.data[min] + self.data[max] < target:\n",
    "                min += 1\n",
    "            else:\n",
    "                max -= 1\n",
    "        return counter\n",
    "    \n",
    "    def threesum(self):\n",
    "        counter = 0\n",
    "        for i in tnrange(len(self.data)):\n",
    "            counter += self.twosum(-self.data[i])\n",
    "        return counter\n",
    "    \n",
    "            \n",
    "    def runtime(self):\n",
    "        time_start = time.time()\n",
    "        self.threesum()\n",
    "        time_finish = time.time()\n",
    "        time_run = time_finish - time_start\n",
    "        return time_run"
   ]
  },
  {
   "cell_type": "code",
   "execution_count": 3,
   "metadata": {},
   "outputs": [],
   "source": [
    "input_data_8 = np.loadtxt('Q5_dataset/8int.txt', int)\n",
    "input_data_32 = np.loadtxt('Q5_dataset/32int.txt', int)\n",
    "input_data_128 = np.loadtxt('Q5_dataset/128int.txt', int)\n",
    "input_data_512 = np.loadtxt('Q5_dataset/512int.txt', int)\n",
    "input_data_1024 = np.loadtxt('Q5_dataset/1024int.txt', int)\n",
    "input_data_4096 = np.loadtxt('Q5_dataset/4096int.txt', int)\n",
    "input_data_4192 = np.loadtxt('Q5_dataset/4192int.txt', int)\n",
    "input_data_8192 = np.loadtxt('Q5_dataset/8192int.txt', int)\n",
    "\n",
    "bit_8 = Fast3Sum(input_data_8)\n",
    "bit_32 = Fast3Sum(input_data_32)\n",
    "bit_128 = Fast3Sum(input_data_128)\n",
    "bit_512 = Fast3Sum(input_data_512)\n",
    "bit_1024 = Fast3Sum(input_data_1024)\n",
    "bit_4096 = Fast3Sum(input_data_4096)\n",
    "bit_4192 = Fast3Sum(input_data_4192)\n",
    "bit_8192 = Fast3Sum(input_data_8192)"
   ]
  },
  {
   "cell_type": "code",
   "execution_count": 4,
   "metadata": {},
   "outputs": [
    {
     "data": {
      "application/vnd.jupyter.widget-view+json": {
       "model_id": "4a61b97664f34d75b3cd858b7d887f0e",
       "version_major": 2,
       "version_minor": 0
      },
      "text/plain": [
       "HBox(children=(IntProgress(value=0, max=8), HTML(value='')))"
      ]
     },
     "metadata": {},
     "output_type": "display_data"
    },
    {
     "name": "stdout",
     "output_type": "stream",
     "text": [
      "\n"
     ]
    },
    {
     "data": {
      "application/vnd.jupyter.widget-view+json": {
       "model_id": "0b2ecb7a4944432a9930ee41baf32b84",
       "version_major": 2,
       "version_minor": 0
      },
      "text/plain": [
       "HBox(children=(IntProgress(value=0, max=32), HTML(value='')))"
      ]
     },
     "metadata": {},
     "output_type": "display_data"
    },
    {
     "name": "stdout",
     "output_type": "stream",
     "text": [
      "\n"
     ]
    },
    {
     "data": {
      "application/vnd.jupyter.widget-view+json": {
       "model_id": "1546b6b635404d27a314ab533f865a7c",
       "version_major": 2,
       "version_minor": 0
      },
      "text/plain": [
       "HBox(children=(IntProgress(value=0, max=128), HTML(value='')))"
      ]
     },
     "metadata": {},
     "output_type": "display_data"
    },
    {
     "name": "stdout",
     "output_type": "stream",
     "text": [
      "\n"
     ]
    },
    {
     "data": {
      "application/vnd.jupyter.widget-view+json": {
       "model_id": "11cd4a84846940ef997e43a21e1ff327",
       "version_major": 2,
       "version_minor": 0
      },
      "text/plain": [
       "HBox(children=(IntProgress(value=0, max=512), HTML(value='')))"
      ]
     },
     "metadata": {},
     "output_type": "display_data"
    },
    {
     "name": "stdout",
     "output_type": "stream",
     "text": [
      "\n"
     ]
    },
    {
     "data": {
      "application/vnd.jupyter.widget-view+json": {
       "model_id": "469458fcccc2455783df6aad32c36b2c",
       "version_major": 2,
       "version_minor": 0
      },
      "text/plain": [
       "HBox(children=(IntProgress(value=0, max=1024), HTML(value='')))"
      ]
     },
     "metadata": {},
     "output_type": "display_data"
    },
    {
     "name": "stdout",
     "output_type": "stream",
     "text": [
      "\n"
     ]
    },
    {
     "data": {
      "application/vnd.jupyter.widget-view+json": {
       "model_id": "4a9a8fd140754c00ae1f56b775a839ed",
       "version_major": 2,
       "version_minor": 0
      },
      "text/plain": [
       "HBox(children=(IntProgress(value=0, max=4096), HTML(value='')))"
      ]
     },
     "metadata": {},
     "output_type": "display_data"
    },
    {
     "name": "stdout",
     "output_type": "stream",
     "text": [
      "\n"
     ]
    },
    {
     "data": {
      "application/vnd.jupyter.widget-view+json": {
       "model_id": "ec319708eb984b199665f5760709220f",
       "version_major": 2,
       "version_minor": 0
      },
      "text/plain": [
       "HBox(children=(IntProgress(value=0, max=4192), HTML(value='')))"
      ]
     },
     "metadata": {},
     "output_type": "display_data"
    },
    {
     "name": "stdout",
     "output_type": "stream",
     "text": [
      "\n"
     ]
    },
    {
     "data": {
      "application/vnd.jupyter.widget-view+json": {
       "model_id": "22a5ba8f1cc146bdbcbc511ee032a1ac",
       "version_major": 2,
       "version_minor": 0
      },
      "text/plain": [
       "HBox(children=(IntProgress(value=0, max=8192), HTML(value='')))"
      ]
     },
     "metadata": {},
     "output_type": "display_data"
    },
    {
     "name": "stdout",
     "output_type": "stream",
     "text": [
      "\n"
     ]
    }
   ],
   "source": [
    "input_number = [8, 32, 128, 512, 1024, 4096, 4192, 8192]\n",
    "runtime = [bit_8.runtime(), bit_32.runtime(), bit_128.runtime(), bit_512.runtime(),\\\n",
    "           bit_1024.runtime(), bit_4096.runtime(), bit_4192.runtime(), bit_8192.runtime()]"
   ]
  },
  {
   "cell_type": "code",
   "execution_count": 5,
   "metadata": {},
   "outputs": [
    {
     "data": {
      "image/png": "[encoded data removed]",
      "text/plain": [
       "<Figure size 432x288 with 1 Axes>"
      ]
     },
     "metadata": {
      "needs_background": "light"
     },
     "output_type": "display_data"
    }
   ],
   "source": [
    "plt.figure\n",
    "plt.plot(input_number, runtime, 'r' )\n",
    "plt.title('time cost as a function of input numbers')\n",
    "plt.xlabel('input number')\n",
    "plt.ylabel('time cost (s)')\n",
    "plt.savefig('./plot.jpg')\n",
    "plt.show()"
   ]
  },
  {
   "cell_type": "code",
   "execution_count": null,
   "metadata": {},
   "outputs": [],
   "source": []
  }
 ],
 "metadata": {
  "kernelspec": {
   "display_name": "Python 3",
   "language": "python",
   "name": "python3"
  },
  "language_info": {
   "codemirror_mode": {
    "name": "ipython",
    "version": 3
   },
   "file_extension": ".py",
   "mimetype": "text/x-python",
   "name": "python",
   "nbconvert_exporter": "python",
   "pygments_lexer": "ipython3",
   "version": "3.7.4"
  }
 },
 "nbformat": 4,
 "nbformat_minor": 2
}
