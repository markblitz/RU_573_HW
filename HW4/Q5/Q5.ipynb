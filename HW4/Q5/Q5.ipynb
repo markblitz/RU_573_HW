{
 "cells": [
  {
   "cell_type": "code",
   "execution_count": 29,
   "metadata": {},
   "outputs": [],
   "source": [
    "class Graph:\n",
    "    def __init__(self, input_vertex_number):\n",
    "        self.vertex_number = input_vertex_number\n",
    "        self.edge_number = 0\n",
    "        self.Adjacency_list = [[] for i in range(self.vertex_number)]\n",
    "        #print(self.Adjacency_list)\n",
    "        \n",
    "    def Add_Path(self, start_vertex, end_vertex, weight=1):\n",
    "        self.Adjacency_list[start_vertex].append([end_vertex, weight])\n",
    "        self.edge_number += 1\n",
    "        \n",
    "    def Print_List(self):\n",
    "        print(self.edge_number, \"edge(s)\")\n",
    "        for i in range(0, len(self.Adjacency_list)):\n",
    "            print(\"Vertex: \", i, \" Linked with: \", self.Adjacency_list[i])\n",
    "            \n",
    "    def BFS(self):\n",
    "        vertex_queue = []\n",
    "        vertex_queue.append(0)\n",
    "        visited_vertex = set()\n",
    "        visited_vertex.add(0)\n",
    "        while (len(vertex_queue) > 0):\n",
    "            vertex = vertex_queue.pop(0)\n",
    "            nodes = []\n",
    "            for i in range(0, len(self.Adjacency_list[vertex])):\n",
    "                nodes.append(self.Adjacency_list[vertex][i][0])\n",
    "            for i in nodes:\n",
    "                if i not in visited_vertex:\n",
    "                    vertex_queue.append(i)\n",
    "                    visited_vertex.add(i)\n",
    "        if len(visited_vertex) == self.vertex_number:\n",
    "            print('all vertex visited')\n",
    "            \n",
    "    def DFS(self):\n",
    "        vertex_stack = []\n",
    "        vertex_stack.append(0)\n",
    "        visited_vertex = set()\n",
    "        visited_vertex.add(0)\n",
    "        while (len(vertex_stack) > 0):\n",
    "            vertex = vertex_stack.pop()\n",
    "            nodes = []\n",
    "            for i in range(0, len(self.Adjacency_list[vertex])):\n",
    "                nodes.append(self.Adjacency_list[vertex][i][0])\n",
    "            for i in nodes:\n",
    "                if i not in visited_vertex:\n",
    "                    vertex_stack.append(i)\n",
    "                    visited_vertex.add(i)\n",
    "        if len(visited_vertex) == self.vertex_number:\n",
    "            print('all vertex visited')"
   ]
  },
  {
   "cell_type": "code",
   "execution_count": 30,
   "metadata": {},
   "outputs": [
    {
     "name": "stdout",
     "output_type": "stream",
     "text": [
      "all vertex visited\n",
      "all vertex visited\n"
     ]
    }
   ],
   "source": [
    "input_data = []\n",
    "file = open('./data/NYC.txt')\n",
    "input_vertex_number = int(file.readline())\n",
    "input_edge_number = int(file.readline())\n",
    "graph = Graph(input_vertex_number)\n",
    "for line in file.readlines():\n",
    "    start_vertex = int(line.split()[0])\n",
    "    end_vertex = int(line.split()[1])\n",
    "    weight = float(line.split()[2])\n",
    "    graph.Add_Path(start_vertex, end_vertex, weight)\n",
    "file.close()\n",
    "#graph.Print_List()\n",
    "graph.BFS()\n",
    "graph.DFS()"
   ]
  },
  {
   "cell_type": "code",
   "execution_count": null,
   "metadata": {},
   "outputs": [],
   "source": []
  }
 ],
 "metadata": {
  "kernelspec": {
   "display_name": "Python 3",
   "language": "python",
   "name": "python3"
  },
  "language_info": {
   "codemirror_mode": {
    "name": "ipython",
    "version": 3
   },
   "file_extension": ".py",
   "mimetype": "text/x-python",
   "name": "python",
   "nbconvert_exporter": "python",
   "pygments_lexer": "ipython3",
   "version": "3.7.6"
  }
 },
 "nbformat": 4,
 "nbformat_minor": 4
}
