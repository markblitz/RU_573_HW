{
 "cells": [
  {
   "cell_type": "code",
   "execution_count": 7,
   "metadata": {},
   "outputs": [],
   "source": [
    "import numpy as np"
   ]
  },
  {
   "cell_type": "code",
   "execution_count": 24,
   "metadata": {},
   "outputs": [],
   "source": [
    "class Graph:\n",
    "    def __init__(self, input_vertex_number):\n",
    "        self.vertex_number = input_vertex_number\n",
    "        self.edge_number = 0\n",
    "        self.Adjacency_list = [[] for i in range(self.vertex_number)]\n",
    "        #print(self.Adjacency_list)\n",
    "        \n",
    "    def Add_Path(self, start_vertex, end_vertex, weight=1):\n",
    "        self.Adjacency_list[start_vertex].append([end_vertex, weight])\n",
    "        self.edge_number += 1\n",
    "        \n",
    "    def Print_List(self):\n",
    "        print(self.edge_number, \"edge(s)\")\n",
    "        for i in range(0, len(self.Adjacency_list)):\n",
    "            print(\"Vertex: \", i, \" Linked with: \", self.Adjacency_list[i])\n",
    "            \n",
    "    def Is_Cyclic(self):\n",
    "        # check if exist cycle\n",
    "        vertex_stack = []\n",
    "        vertex_stack.append(0)\n",
    "        visited_vertex = set()\n",
    "        visited_vertex.add(0)\n",
    "        while (len(vertex_stack) > 0):\n",
    "            vertex = vertex_stack.pop()\n",
    "            nodes = []\n",
    "            for i in range(0, len(self.Adjacency_list[vertex])):\n",
    "                nodes.append(self.Adjacency_list[vertex][i][0])\n",
    "            for i in nodes:\n",
    "                if i in visited_vertex:\n",
    "                    return True\n",
    "                else:\n",
    "                    vertex_stack.append(i)\n",
    "                    visited_vertex.add(i)\n",
    "        return False"
   ]
  },
  {
   "cell_type": "code",
   "execution_count": 25,
   "metadata": {},
   "outputs": [
    {
     "data": {
      "text/plain": [
       "True"
      ]
     },
     "execution_count": 25,
     "metadata": {},
     "output_type": "execute_result"
    }
   ],
   "source": [
    "input_data = []\n",
    "file = open('./data/data.txt')\n",
    "input_vertex_number = int(file.readline())\n",
    "input_edge_number = int(file.readline())\n",
    "graph = Graph(input_vertex_number)\n",
    "for line in file.readlines():\n",
    "    start_vertex = int(line.split()[0])\n",
    "    end_vertex = int(line.split()[1])\n",
    "    weight = float(line.split()[2])\n",
    "    graph.Add_Path(start_vertex, end_vertex, weight)\n",
    "file.close()\n",
    "#graph.Print_List()\n",
    "graph.Is_Cyclic()"
   ]
  },
  {
   "cell_type": "code",
   "execution_count": 23,
   "metadata": {},
   "outputs": [
    {
     "name": "stdout",
     "output_type": "stream",
     "text": [
      "250\n",
      "1273\n"
     ]
    }
   ],
   "source": [
    "print(input_vertex_number)\n",
    "print(input_edge_number)"
   ]
  },
  {
   "cell_type": "code",
   "execution_count": null,
   "metadata": {},
   "outputs": [],
   "source": []
  },
  {
   "cell_type": "code",
   "execution_count": null,
   "metadata": {},
   "outputs": [],
   "source": []
  }
 ],
 "metadata": {
  "kernelspec": {
   "display_name": "Python 3",
   "language": "python",
   "name": "python3"
  },
  "language_info": {
   "codemirror_mode": {
    "name": "ipython",
    "version": 3
   },
   "file_extension": ".py",
   "mimetype": "text/x-python",
   "name": "python",
   "nbconvert_exporter": "python",
   "pygments_lexer": "ipython3",
   "version": "3.7.6"
  }
 },
 "nbformat": 4,
 "nbformat_minor": 4
}
