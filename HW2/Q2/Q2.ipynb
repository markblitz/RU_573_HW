{
 "cells": [
  {
   "cell_type": "code",
   "execution_count": 1,
   "metadata": {},
   "outputs": [],
   "source": [
    "import numpy as np\n",
    "import time\n",
    "import matplotlib.pyplot as plt\n",
    "from matplotlib.ticker import FuncFormatter\n",
    "from scipy import stats"
   ]
  },
  {
   "cell_type": "code",
   "execution_count": 2,
   "metadata": {},
   "outputs": [],
   "source": [
    "# helps from: https://blog.csdn.net/DeniuHe/article/details/88671096\n",
    "# and https://docs.scipy.org/doc/scipy/reference/generated/scipy.stats.kendalltau.html\n",
    "def KendallTau(input_array_a, input_array_b):\n",
    "    time_start = time.time()\n",
    "    length = len(input_array_a)\n",
    "    ties_in_x = 0\n",
    "    ties_in_y = 0\n",
    "    concordant_pair = 0\n",
    "    discordant_pair = 0\n",
    "    for i in range(length-1):\n",
    "        for j in range(i+1, length):\n",
    "            test_tying_x = np.sign(input_array_a[i] - input_array_a[j])\n",
    "            test_tying_y = np.sign(input_array_b[i] - input_array_b[j])\n",
    "            p = test_tying_x * test_tying_y\n",
    "            if p == 1:\n",
    "                concordant_pair +=1\n",
    "            elif p == -1:\n",
    "                discordant_pair +=1\n",
    "            if test_tying_x != 0 and test_tying_y == 0:\n",
    "                ties_in_y += 1\n",
    "            elif test_tying_x == 0 and test_tying_y != 0:\n",
    "                ties_in_x += 1\n",
    "    time_finish = time.time()           \n",
    "    kendalltau = (concordant_pair - discordant_pair)/ np.sqrt( \\\n",
    "                    (concordant_pair + discordant_pair + ties_in_x) * \\\n",
    "                    (discordant_pair + concordant_pair + ties_in_y))\n",
    "    time_run = time_finish - time_start\n",
    "    return kendalltau, time_run\n",
    "    "
   ]
  },
  {
   "cell_type": "code",
   "execution_count": 3,
   "metadata": {},
   "outputs": [],
   "source": [
    "input_1024_0 = np.loadtxt('./data/data0.1024', int)\n",
    "input_2048_0 = np.loadtxt('./data/data0.2048', int)\n",
    "input_4096_0 = np.loadtxt('./data/data0.4096', int)\n",
    "input_8192_0 = np.loadtxt('./data/data0.8192', int)\n",
    "input_16384_0 = np.loadtxt('./data/data0.16384', int)\n",
    "input_32768_0 = np.loadtxt('./data/data0.32768', int)\n",
    "\n",
    "input_1024_1 = np.loadtxt('./data/data1.1024', int)\n",
    "input_2048_1 = np.loadtxt('./data/data1.2048', int)\n",
    "input_4096_1 = np.loadtxt('./data/data1.4096', int)\n",
    "input_8192_1 = np.loadtxt('./data/data1.8192', int)\n",
    "input_16384_1 = np.loadtxt('./data/data1.16384', int)\n",
    "input_32768_1 = np.loadtxt('./data/data1.32768', int)"
   ]
  },
  {
   "cell_type": "code",
   "execution_count": 4,
   "metadata": {},
   "outputs": [],
   "source": [
    "input_data = [input_1024_0, input_1024_1, input_2048_0, input_2048_1, input_4096_0, input_4096_1, \\\n",
    "             input_8192_0, input_8192_1, input_16384_0, input_16384_1]"
   ]
  },
  {
   "cell_type": "code",
   "execution_count": 14,
   "metadata": {},
   "outputs": [],
   "source": [
    "result = []\n",
    "for i in range(0, len(input_data), 2):\n",
    "    result.append(KendallTau(input_data[i], input_data[i+1]))"
   ]
  },
  {
   "cell_type": "code",
   "execution_count": 30,
   "metadata": {},
   "outputs": [
    {
     "name": "stdout",
     "output_type": "stream",
     "text": [
      "[-0.010130284701857282, 0.019872832193453836, 0.0022598061660561663, -0.009156331549108778, 0.006908376465886895]\n"
     ]
    }
   ],
   "source": [
    "kendalltau = []\n",
    "runtime = []\n",
    "for i in result:\n",
    "    kendalltau.append(i[0])\n",
    "    runtime.append(i[1])\n",
    "print(kendalltau)\n",
    "#print(runtime)\n",
    "np.savetxt('./result/kendall tau.txt', kendalltau, fmt='%f')\n",
    "np.savetxt('./result/runtime.txt', runtime, fmt='%f')"
   ]
  },
  {
   "cell_type": "code",
   "execution_count": 31,
   "metadata": {},
   "outputs": [],
   "source": [
    "kendalltau_scipy = []\n",
    "for i in range(0, len(input_data), 2):\n",
    "    kendalltau_scipy.append(stats.kendalltau(input_data[i], input_data[i+1])[0])"
   ]
  },
  {
   "cell_type": "code",
   "execution_count": 32,
   "metadata": {},
   "outputs": [
    {
     "name": "stdout",
     "output_type": "stream",
     "text": [
      "[-0.010130284701857282, 0.01987283219345384, 0.0022598061660561663, -0.00915633154910878, 0.006908376465886894]\n"
     ]
    }
   ],
   "source": [
    "print(kendalltau_scipy)\n",
    "# this part is to confirm"
   ]
  },
  {
   "cell_type": "code",
   "execution_count": 33,
   "metadata": {},
   "outputs": [
    {
     "data": {
      "image/png": "[encoded data removed]",
      "text/plain": [
       "<Figure size 432x288 with 1 Axes>"
      ]
     },
     "metadata": {
      "needs_background": "light"
     },
     "output_type": "display_data"
    }
   ],
   "source": [
    "input_size = [1024, 2048, 4096, 8192, 16384]\n",
    "plt.figure()\n",
    "plt.plot(input_size, runtime, 'r', label = 'runtime')\n",
    "plt.legend(loc='upper left')\n",
    "plt.title('Runtime as function of input size')\n",
    "plt.xlabel('input size')\n",
    "plt.ylabel('rumtime')\n",
    "#ax = plt.gca()\n",
    "#ax.get_yaxis().get_major_formatter().set_scientific(False)\n",
    "plt.savefig('./result/runtime vs input.jpg')\n",
    "plt.show()"
   ]
  },
  {
   "cell_type": "code",
   "execution_count": null,
   "metadata": {},
   "outputs": [],
   "source": []
  }
 ],
 "metadata": {
  "kernelspec": {
   "display_name": "Python 3",
   "language": "python",
   "name": "python3"
  },
  "language_info": {
   "codemirror_mode": {
    "name": "ipython",
    "version": 3
   },
   "file_extension": ".py",
   "mimetype": "text/x-python",
   "name": "python",
   "nbconvert_exporter": "python",
   "pygments_lexer": "ipython3",
   "version": "3.7.3"
  }
 },
 "nbformat": 4,
 "nbformat_minor": 4
}
