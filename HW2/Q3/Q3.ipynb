{
 "cells": [
  {
   "cell_type": "code",
   "execution_count": 7,
   "metadata": {},
   "outputs": [],
   "source": [
    "import numpy as np\n",
    "import time\n",
    "import matplotlib.pyplot as plt\n",
    "from matplotlib.ticker import FuncFormatter\n",
    "import copy"
   ]
  },
  {
   "cell_type": "code",
   "execution_count": 8,
   "metadata": {},
   "outputs": [],
   "source": [
    "# helps from: https://www.geeksforgeeks.org/merge-sort/\n",
    "def RecursiveMergeSort(input_array):\n",
    "    time_start = time.time()\n",
    "    compare_time = 0\n",
    "    sort_array = copy.deepcopy(input_array) # sort, but not change orignial array(strange)\n",
    "    if len(sort_array) > 1: # stop base\n",
    "        mid = len(sort_array)//2\n",
    "        left_array = sort_array[:mid]\n",
    "        right_array = sort_array[mid:]\n",
    "        # recursive\n",
    "        MergeSort(left_array)\n",
    "        MergeSort(right_array)\n",
    "        # merge part\n",
    "        i = j = k = 0\n",
    "        while i < len(left_array) and j < len(right_array):\n",
    "            compare_time += 1\n",
    "            if left_array[i] < right_array[j]:\n",
    "                sort_array[k] = left_array[i]\n",
    "                i += 1\n",
    "            else:\n",
    "                sort_array[k] = right_array[j]\n",
    "                j += 1\n",
    "            k += 1\n",
    "            \n",
    "        while i < len(left_array):\n",
    "            sort_array[k] = left_array[i]\n",
    "            k += 1\n",
    "            i += 1\n",
    "            \n",
    "        while j < len(right_array):\n",
    "            sort_array[k] = right_array[j]\n",
    "            k += 1\n",
    "            j += 1\n",
    "            \n",
    "        time_finish = time.time()\n",
    "        time_run = time_finish - time_start\n",
    "        return compare_time, time_run\n",
    "    \n",
    "# iterative merge sort\n",
    "# helps: https://www.geeksforgeeks.org/iterative-merge-sort/\n"
   ]
  },
  {
   "cell_type": "code",
   "execution_count": 9,
   "metadata": {},
   "outputs": [],
   "source": [
    "input_1024_0 = np.loadtxt('./data/data0.1024', int)\n",
    "input_2048_0 = np.loadtxt('./data/data0.2048', int)\n",
    "input_4096_0 = np.loadtxt('./data/data0.4096', int)\n",
    "input_8192_0 = np.loadtxt('./data/data0.8192', int)\n",
    "input_16384_0 = np.loadtxt('./data/data0.16384', int)\n",
    "input_32768_0 = np.loadtxt('./data/data0.32768', int)\n",
    "\n",
    "input_1024_1 = np.loadtxt('./data/data1.1024', int)\n",
    "input_2048_1 = np.loadtxt('./data/data1.2048', int)\n",
    "input_4096_1 = np.loadtxt('./data/data1.4096', int)\n",
    "input_8192_1 = np.loadtxt('./data/data1.8192', int)\n",
    "input_16384_1 = np.loadtxt('./data/data1.16384', int)\n",
    "input_32768_1 = np.loadtxt('./data/data1.32768', int)\n",
    "\n",
    "input_data = [input_1024_0, input_1024_1, input_2048_0, input_2048_1, input_4096_0, input_4096_1, \\\n",
    "             input_8192_0, input_8192_1, input_16384_0, input_16384_1, input_32768_0, input_32768_1]"
   ]
  },
  {
   "cell_type": "code",
   "execution_count": 15,
   "metadata": {},
   "outputs": [
    {
     "name": "stdout",
     "output_type": "stream",
     "text": [
      "[(512, 0.00994420051574707), (513, 0.0110015869140625), (1024, 0.017955541610717773), (1037, 0.021908998489379883), (2048, 0.03789687156677246), (2050, 0.03789830207824707), (4096, 0.07380247116088867), (4097, 0.07479977607727051), (8192, 0.1515946388244629), (8193, 0.15558385848999023), (16384, 0.31914663314819336), (16403, 0.33310914039611816)]\n"
     ]
    }
   ],
   "source": [
    "result = []\n",
    "for i in input_data:\n",
    "    result.append(RecursiveMergeSort(i))\n",
    "print(result)"
   ]
  },
  {
   "cell_type": "code",
   "execution_count": 26,
   "metadata": {},
   "outputs": [
    {
     "name": "stdout",
     "output_type": "stream",
     "text": [
      "[513, 1037, 2050, 4097, 8193, 16403]\n"
     ]
    }
   ],
   "source": [
    "recursive_merge_compare_0 = []\n",
    "recursive_merge_compare_1 = []\n",
    "recursive_merge_runtime_0 = []\n",
    "recursive_merge_runtime_1 = []\n",
    "for i in range(0, len(result), 2):\n",
    "    recursive_merge_compare_0.append(result[i][0])\n",
    "    recursive_merge_runtime_0.append(result[i][1])\n",
    "    recursive_merge_compare_1.append(result[i+1][0])\n",
    "    recursive_merge_runtime_1.append(result[i+1][1])\n",
    "print(recursive_merge_compare_1)"
   ]
  },
  {
   "cell_type": "code",
   "execution_count": 27,
   "metadata": {},
   "outputs": [],
   "source": [
    "np.savetxt('./result/recursice compare 0.txt', recursive_merge_compare_0, fmt='%f')\n",
    "np.savetxt('./result/recursice compare 1.txt', recursive_merge_compare_1, fmt='%f')\n",
    "np.savetxt('./result/recursice runtime 0.txt', recursive_merge_runtime_0, fmt='%f')\n",
    "np.savetxt('./result/recursice runtime 1.txt', recursive_merge_runtime_1, fmt='%f')"
   ]
  },
  {
   "cell_type": "code",
   "execution_count": null,
   "metadata": {},
   "outputs": [],
   "source": []
  }
 ],
 "metadata": {
  "kernelspec": {
   "display_name": "Python 3",
   "language": "python",
   "name": "python3"
  },
  "language_info": {
   "codemirror_mode": {
    "name": "ipython",
    "version": 3
   },
   "file_extension": ".py",
   "mimetype": "text/x-python",
   "name": "python",
   "nbconvert_exporter": "python",
   "pygments_lexer": "ipython3",
   "version": "3.7.4"
  }
 },
 "nbformat": 4,
 "nbformat_minor": 4
}
