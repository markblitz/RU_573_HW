{
 "cells": [
  {
   "cell_type": "code",
   "execution_count": 3,
   "metadata": {},
   "outputs": [],
   "source": [
    "import numpy as np\n",
    "import time\n",
    "import matplotlib.pyplot as plt\n",
    "from matplotlib.ticker import FuncFormatter\n",
    "import copy"
   ]
  },
  {
   "cell_type": "code",
   "execution_count": 120,
   "metadata": {},
   "outputs": [],
   "source": [
    "def MidofThree(input_array, left, right):\n",
    "    mid = (left + right - 1) // 2\n",
    "    i = input_array[left]\n",
    "    j = input_array[right-1]\n",
    "    k = input_array[mid]\n",
    "    if (i < k < j) or (j < k < i):\n",
    "        return k, mid\n",
    "    elif (k < i < j) or (j < i < k):\n",
    "        return i, left\n",
    "    else:\n",
    "        return j, right - 1\n",
    "    \n",
    "# https://www.geeksforgeeks.org/quick-sort/\n",
    "def Partition(input_array, low, high):\n",
    "    i = low - 1\n",
    "    pivot, pivot_index = MidofThree(input_array, low, high)     # pivot\n",
    "    #print('pivot', pivot, ' from ', low, ' to ', high)\n",
    "    input_array[high], input_array[pivot_index] = input_array[pivot_index], input_array[high] # move pivot to high\n",
    "    for j in range(low, high):  \n",
    "        if input_array[j] < pivot: \n",
    "            i = i + 1\n",
    "            #print('swap ', input_array[i], input_array[j])\n",
    "            input_array[i],input_array[j] = input_array[j],input_array[i] \n",
    "            #print(input_array)\n",
    "    #print(input_array)\n",
    "    input_array[i+1], input_array[high] = input_array[high], input_array[i+1] # move pivot to mid\n",
    "    #print(input_array)\n",
    "    return i + 1\n",
    "\n",
    "def QuickSort(input_array, low, high, is_first = True):\n",
    "    #print(high - low + 1)\n",
    "    time_start = time.time()\n",
    "    if is_first:\n",
    "        sort_array = copy.deepcopy(input_array) # sort, but not change orignial array(strange)\n",
    "    else:\n",
    "        sort_array = input_array\n",
    "    if low < high: \n",
    "        pi = Partition(sort_array,low,high) \n",
    "        #print('pivot= ', sort_array[pi], 'in ', low, ' to ', high)\n",
    "        #print(sort_array)\n",
    "        QuickSort(sort_array, low, pi-1, is_first = False) \n",
    "        QuickSort(sort_array, pi+1, high, is_first = False) \n",
    "    time_finish = time.time()\n",
    "    time_run = time_finish - time_start\n",
    "    # check if sort_array is sorted, of course\n",
    "    #if is_first:\n",
    "    #    print(sort_array)\n",
    "    return time_run\n",
    "\n",
    "def CutSort(input_array, low, high, cutoff = 7, is_first = True):\n",
    "    #print(high - low + 1)\n",
    "    time_start = time.time()\n",
    "    if is_first:\n",
    "        sort_array = copy.deepcopy(input_array) # sort, but not change orignial array(strange)\n",
    "    else:\n",
    "        sort_array = input_array\n",
    "    if low < high: \n",
    "        if high - low <= cutoff:\n",
    "            #print('cut from ', low, ' to ', high)\n",
    "            for i in range(low, high+1):\n",
    "                for j in range(i, low, -1):\n",
    "                    if sort_array[j] < sort_array[j-1]: \n",
    "                        sort_array[j], sort_array[j-1] = sort_array[j-1], sort_array[j]\n",
    "                    else:\n",
    "                        break\n",
    "            #print(sort_array)\n",
    "        else:\n",
    "            pi = Partition(sort_array,low,high) \n",
    "            #print('pivot= ', sort_array[pi], 'in ', low, ' to ', high)\n",
    "            #print(sort_array)\n",
    "            CutSort(sort_array, low, pi-1, is_first = False) \n",
    "            CutSort(sort_array, pi+1, high, is_first = False) \n",
    "    time_finish = time.time()\n",
    "    time_run = time_finish - time_start\n",
    "    # check if sort_array is sorted, of course\n",
    "    #if is_first:\n",
    "    #    print(sort_array)\n",
    "    return time_run"
   ]
  },
  {
   "cell_type": "code",
   "execution_count": 121,
   "metadata": {},
   "outputs": [],
   "source": [
    "input_1024_0 = np.loadtxt('./data/data0.1024', int)\n",
    "input_2048_0 = np.loadtxt('./data/data0.2048', int)\n",
    "input_4096_0 = np.loadtxt('./data/data0.4096', int)\n",
    "input_8192_0 = np.loadtxt('./data/data0.8192', int)\n",
    "input_16384_0 = np.loadtxt('./data/data0.16384', int)\n",
    "input_32768_0 = np.loadtxt('./data/data0.32768', int)\n",
    "\n",
    "input_1024_1 = np.loadtxt('./data/data1.1024', int)\n",
    "input_2048_1 = np.loadtxt('./data/data1.2048', int)\n",
    "input_4096_1 = np.loadtxt('./data/data1.4096', int)\n",
    "input_8192_1 = np.loadtxt('./data/data1.8192', int)\n",
    "input_16384_1 = np.loadtxt('./data/data1.16384', int)\n",
    "input_32768_1 = np.loadtxt('./data/data1.32768', int)\n",
    "\n",
    "input_data = [input_1024_0, input_1024_1, input_2048_0, input_2048_1, input_4096_0, input_4096_1, \\\n",
    "             input_8192_0, input_8192_1, input_16384_0, input_16384_1, input_32768_0, input_32768_1]"
   ]
  },
  {
   "cell_type": "code",
   "execution_count": 122,
   "metadata": {},
   "outputs": [
    {
     "name": "stdout",
     "output_type": "stream",
     "text": [
      "[0.0040132999420166016, 0.003988742828369141, 0.007983684539794922, 0.009945869445800781, 0.01598048210144043, 0.01795816421508789, 0.03687119483947754, 0.03989386558532715, 0.06884574890136719, 0.07879185676574707, 0.14361810684204102, 0.17652297019958496]\n"
     ]
    }
   ],
   "source": [
    "result = []\n",
    "for i in input_data:\n",
    "    result.append(QuickSort(i, 0, len(i)- 1))\n",
    "print(result)"
   ]
  },
  {
   "cell_type": "code",
   "execution_count": 123,
   "metadata": {},
   "outputs": [
    {
     "name": "stdout",
     "output_type": "stream",
     "text": [
      "[0.0040132999420166016, 0.007983684539794922, 0.01598048210144043, 0.03687119483947754, 0.06884574890136719, 0.14361810684204102]\n"
     ]
    }
   ],
   "source": [
    "quicksort_runtime_0 = []\n",
    "quicksort_runtime_1 = []\n",
    "for i in range(0, len(result), 2):\n",
    "    quicksort_runtime_0.append(result[i])\n",
    "    quicksort_runtime_1.append(result[i+1])\n",
    "print(quicksort_runtime_0)"
   ]
  },
  {
   "cell_type": "code",
   "execution_count": 124,
   "metadata": {},
   "outputs": [
    {
     "name": "stdout",
     "output_type": "stream",
     "text": [
      "[0.0029904842376708984, 0.00399017333984375, 0.006979942321777344, 0.008010149002075195, 0.011967658996582031, 0.015960216522216797, 0.025897741317749023, 0.038925886154174805, 0.052858829498291016, 0.0718073844909668, 0.11565923690795898, 0.15960454940795898]\n"
     ]
    }
   ],
   "source": [
    "result = []\n",
    "for i in input_data:\n",
    "    result.append(CutSort(i, 0, len(i)-1))\n",
    "print(result)"
   ]
  },
  {
   "cell_type": "code",
   "execution_count": 125,
   "metadata": {},
   "outputs": [],
   "source": [
    "cutsort_runtime_0 = []\n",
    "cutsort_runtime_1 = []\n",
    "for i in range(0, len(result), 2):\n",
    "    cutsort_runtime_0.append(result[i])\n",
    "    cutsort_runtime_1.append(result[i+1])\n",
    "print(cutsort_runtime_0)"
   ]
  },
  {
   "cell_type": "code",
   "execution_count": 126,
   "metadata": {},
   "outputs": [],
   "source": [
    "np.savetxt('./result/quicksort runtime 0.txt', quicksort_runtime_0, fmt='%f')\n",
    "np.savetxt('./result/quicksort runtime 1.txt', quicksort_runtime_1, fmt='%f')\n",
    "np.savetxt('./result/cutsort runtime 0.txt', cutsort_runtime_0, fmt='%f')\n",
    "np.savetxt('./result/cutsort runtime 1.txt', cutsort_runtime_1, fmt='%f')"
   ]
  },
  {
   "cell_type": "code",
   "execution_count": 127,
   "metadata": {},
   "outputs": [
    {
     "data": {
      "image/png": "[encoded data removed]",
      "text/plain": [
       "<Figure size 432x288 with 1 Axes>"
      ]
     },
     "metadata": {
      "needs_background": "light"
     },
     "output_type": "display_data"
    }
   ],
   "source": [
    "input_size = [1024, 2048, 4096, 8192, 16384, 32768]\n",
    "plt.figure()\n",
    "plt.plot(input_size, quicksort_runtime_0, label = 'quicksort runtime with sorted data')\n",
    "plt.plot(input_size, quicksort_runtime_1, label = 'quicksort runtime with random data')\n",
    "plt.plot(input_size, cutsort_runtime_0, label = 'cutsort runtime with sorted data')\n",
    "plt.plot(input_size, cutsort_runtime_1, label = 'cutsort runtime with random data')\n",
    "plt.legend(loc='upper left')\n",
    "plt.title('Runtime as function of input size')\n",
    "plt.xlabel('input size')\n",
    "plt.ylabel('runtime(s)')\n",
    "#ax = plt.gca()\n",
    "#ax.get_yaxis().get_major_formatter().set_scientific(False)\n",
    "plt.savefig('./result/runtime vs input.jpg')\n",
    "plt.show()"
   ]
  },
  {
   "cell_type": "code",
   "execution_count": null,
   "metadata": {},
   "outputs": [],
   "source": []
  }
 ],
 "metadata": {
  "kernelspec": {
   "display_name": "Python 3",
   "language": "python",
   "name": "python3"
  },
  "language_info": {
   "codemirror_mode": {
    "name": "ipython",
    "version": 3
   },
   "file_extension": ".py",
   "mimetype": "text/x-python",
   "name": "python",
   "nbconvert_exporter": "python",
   "pygments_lexer": "ipython3",
   "version": "3.7.3"
  }
 },
 "nbformat": 4,
 "nbformat_minor": 4
}
