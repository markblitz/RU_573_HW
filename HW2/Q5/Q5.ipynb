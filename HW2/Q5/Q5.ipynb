{
 "cells": [
  {
   "cell_type": "code",
   "execution_count": 1,
   "metadata": {},
   "outputs": [],
   "source": [
    "import numpy as np\n",
    "import time\n",
    "import matplotlib.pyplot as plt\n",
    "from matplotlib.ticker import FuncFormatter\n",
    "import copy"
   ]
  },
  {
   "cell_type": "code",
   "execution_count": 43,
   "metadata": {},
   "outputs": [],
   "source": [
    "def MidofThree(input_array, left, right):\n",
    "    mid = (left + right - 1) // 2\n",
    "    i = input_array[left]\n",
    "    j = input_array[right]\n",
    "    k = input_array[mid]\n",
    "    if (i < k < j) or (j < k < i):\n",
    "        return k, mid\n",
    "    elif (k < i < j) or (j < i < k):\n",
    "        return i, left\n",
    "    else:\n",
    "        return j, right - 1\n",
    "    \n",
    "# https://www.geeksforgeeks.org/quick-sort/\n",
    "def Partition(input_array, low, high):\n",
    "    i = low\n",
    "    pivot, pivot_index = MidofThree(input_array, low, high)     # pivot \n",
    "    input_array[low], input_array[pivot_index] = input_array[pivot_index], input_array[low] # move pivot to low\n",
    "    for j in range(low + 1 , high):  \n",
    "        if input_array[j] < pivot: \n",
    "            i = i + 1\n",
    "            input_array[i],input_array[j] = input_array[j],input_array[i] \n",
    "  \n",
    "    input_array[i+1], input_array[low] = input_array[low], input_array[i+1] # move pivot to mid\n",
    "    return i + 1\n",
    "\n",
    "def QuickSort(input_array, low, high, is_first = True):\n",
    "    #print(high - low + 1)\n",
    "    time_start = time.time()\n",
    "    if is_first:\n",
    "        sort_array = copy.deepcopy(input_array) # sort, but not change orignial array(strange)\n",
    "    else:\n",
    "        sort_array = input_array\n",
    "    if low < high: \n",
    "        pi = Partition(input_array,low,high) \n",
    "        #print('pivot= ', pi)\n",
    "        QuickSort(input_array, low, pi-1, is_first = False) \n",
    "        QuickSort(input_array, pi+1, high, is_first = False) \n",
    "    time_finish = time.time()\n",
    "    time_run = time_finish - time_start\n",
    "    # check if sort_array is sorted, of course\n",
    "    #if is_first:\n",
    "    #    print(sort_array)\n",
    "    return time_run"
   ]
  },
  {
   "cell_type": "code",
   "execution_count": 45,
   "metadata": {},
   "outputs": [],
   "source": [
    "input_1024_0 = np.loadtxt('./data/data0.1024', int)\n",
    "input_2048_0 = np.loadtxt('./data/data0.2048', int)\n",
    "input_4096_0 = np.loadtxt('./data/data0.4096', int)\n",
    "input_8192_0 = np.loadtxt('./data/data0.8192', int)\n",
    "input_16384_0 = np.loadtxt('./data/data0.16384', int)\n",
    "input_32768_0 = np.loadtxt('./data/data0.32768', int)\n",
    "\n",
    "input_1024_1 = np.loadtxt('./data/data1.1024', int)\n",
    "input_2048_1 = np.loadtxt('./data/data1.2048', int)\n",
    "input_4096_1 = np.loadtxt('./data/data1.4096', int)\n",
    "input_8192_1 = np.loadtxt('./data/data1.8192', int)\n",
    "input_16384_1 = np.loadtxt('./data/data1.16384', int)\n",
    "input_32768_1 = np.loadtxt('./data/data1.32768', int)\n",
    "\n",
    "input_data = [input_1024_0, input_1024_1, input_2048_0, input_2048_1, input_4096_0, input_4096_1, \\\n",
    "             input_8192_0, input_8192_1, input_16384_0, input_16384_1] #, input_32768_0, input_32768_1]\n",
    "# 32768 inputs seems reach the max recursive number of Jupyter lab..."
   ]
  },
  {
   "cell_type": "code",
   "execution_count": 46,
   "metadata": {},
   "outputs": [
    {
     "name": "stdout",
     "output_type": "stream",
     "text": [
      "[0.012965679168701172, 0.003989458084106445, 0.046079397201538086, 0.007979154586791992, 0.18051934242248535, 0.016954898834228516, 0.6991713047027588, 0.034906864166259766, 2.940145492553711, 0.11469459533691406]\n"
     ]
    }
   ],
   "source": [
    "result = []\n",
    "for i in input_data:\n",
    "    result.append(QuickSort(i, 0, len(i)- 1))\n",
    "print(result)"
   ]
  },
  {
   "cell_type": "code",
   "execution_count": 48,
   "metadata": {},
   "outputs": [
    {
     "name": "stdout",
     "output_type": "stream",
     "text": [
      "[0.012965679168701172, 0.046079397201538086, 0.18051934242248535, 0.6991713047027588, 2.940145492553711]\n"
     ]
    }
   ],
   "source": [
    "quicksort_runtime_0 = []\n",
    "quicksort_runtime_1 = []\n",
    "for i in range(0, len(result), 2):\n",
    "    quicksort_runtime_0.append(result[i])\n",
    "    quicksort_runtime_1.append(result[i+1])\n",
    "print(quicksort_runtime_0)"
   ]
  },
  {
   "cell_type": "code",
   "execution_count": null,
   "metadata": {},
   "outputs": [],
   "source": []
  }
 ],
 "metadata": {
  "kernelspec": {
   "display_name": "Python 3",
   "language": "python",
   "name": "python3"
  },
  "language_info": {
   "codemirror_mode": {
    "name": "ipython",
    "version": 3
   },
   "file_extension": ".py",
   "mimetype": "text/x-python",
   "name": "python",
   "nbconvert_exporter": "python",
   "pygments_lexer": "ipython3",
   "version": "3.7.3"
  }
 },
 "nbformat": 4,
 "nbformat_minor": 4
}
